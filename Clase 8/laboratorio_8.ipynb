{
 "cells": [
  {
   "cell_type": "markdown",
   "id": "c1dfb233",
   "metadata": {},
   "source": [
    "### Clase 8: Laboratorio"
   ]
  },
  {
   "cell_type": "markdown",
   "id": "c5cbb8b2",
   "metadata": {},
   "source": []
  }
 ],
 "metadata": {
  "language_info": {
   "name": "python"
  }
 },
 "nbformat": 4,
 "nbformat_minor": 5
}
