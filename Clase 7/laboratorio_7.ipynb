{
 "cells": [
  {
   "cell_type": "markdown",
   "id": "52eb734b",
   "metadata": {},
   "source": [
    "### 1. Laboratorio clase 7: Introducción y contexto"
   ]
  },
  {
   "cell_type": "markdown",
   "id": "f583bee2",
   "metadata": {},
   "source": [
    "\n",
    "En este laboratorio exploraremos la técnica de ajuste de parámetros conocida como **LoRA (Low-Rank Adaptation)**, que permite adaptar modelos grandes sin necesidad de actualizar todos sus parámetros. La idea central de LoRA es congelar los pesos originales del modelo y entrenar únicamente un conjunto de capas adicionales que modifican el comportamiento del modelo de manera eficiente y controlada.\n",
    "\n",
    "Este laboratorio tiene los siguientes objetivos:\n",
    "\n",
    "- Comprender los fundamentos matemáticos y computacionales de LoRA.\n",
    "- Implementar manualmente una versión simplificada de LoRA sobre una capa lineal congelada.\n",
    "- Visualizar la pérdida de entrenamiento y las matrices de pesos para entender el efecto de la adaptación.\n",
    "- Aplicar LoRA en un modelo preentrenado real (`flan-t5-small`) para una tarea de resumen automático.\n",
    "- Comparar el rendimiento de LoRA contra el ajuste completo del modelo en términos de calidad del resumen generado."
   ]
  },
  {
   "cell_type": "markdown",
   "id": "6de1e204",
   "metadata": {},
   "source": [
    "### 2. LoRA hecha en casa"
   ]
  },
  {
   "cell_type": "markdown",
   "id": "b42244b8",
   "metadata": {},
   "source": [
    "En esta sección construiremos una versión simplificada de LoRA desde cero, utilizando PyTorch. Simularemos un escenario en el que tenemos una **capa lineal preentrenada** cuyos pesos están congelados (es decir, no se pueden modificar).\n",
    "\n",
    "Para adaptar esta capa a un nuevo conjunto de datos, introduciremos un módulo adicional que aprende una **matriz de actualización de bajo rango** usando dos capas lineales (A y B). Este módulo se entrena mientras la capa original permanece intacta.\n",
    "\n",
    "Esta implementación nos permitirá entender:\n",
    "- Cómo se construye la arquitectura de LoRA manualmente.\n",
    "- Cómo se entrena solo la parte adaptable del modelo.\n",
    "- Qué papel juegan los hiperparámetros `r` (rango) y `alpha` (escalamiento)."
   ]
  },
  {
   "cell_type": "code",
   "execution_count": 1,
   "id": "46edee89",
   "metadata": {},
   "outputs": [],
   "source": [
    "# Importamos librerías necesarias\n",
    "\n",
    "import torch\n",
    "import torch.nn as nn\n",
    "import torch.nn.functional as F\n",
    "import matplotlib.pyplot as plt\n",
    "import math"
   ]
  },
  {
   "cell_type": "code",
   "execution_count": 2,
   "id": "45801a5d",
   "metadata": {},
   "outputs": [],
   "source": [
    "# Simulamos datos de entrenamiento y definimos clases para llevar a cabo el fine-tuning\n",
    "\n",
    "x = torch.randn(64, 64) \n",
    "target = torch.randn(64, 32) \n",
    "\n",
    "class FrozenLinear(nn.Module):\n",
    "    \"\"\"\n",
    "    Capa lineal con pesos y bias congelados (no entrenables).\n",
    "\n",
    "    Args:\n",
    "        in_features (int): Número de características de entrada.\n",
    "        out_features (int): Número de características de salida.\n",
    "    \"\"\"\n",
    "    def __init__(self, in_features, out_features):\n",
    "        \"\"\"\n",
    "        Inicializa la capa FrozenLinear con pesos aleatorios y bias en cero.\n",
    "\n",
    "        Args:\n",
    "            in_features (int): Número de características de entrada.\n",
    "            out_features (int): Número de características de salida.\n",
    "        \"\"\"\n",
    "        super().__init__()\n",
    "        self.weight = nn.Parameter(torch.randn(out_features, in_features))\n",
    "        self.bias = nn.Parameter(torch.zeros(out_features))\n",
    "        self.weight.requires_grad = False\n",
    "        self.bias.requires_grad = False\n",
    "\n",
    "    def forward(self, x):\n",
    "        \"\"\"\n",
    "        Realiza la pasada hacia adelante usando los pesos y bias congelados.\n",
    "\n",
    "        Args:\n",
    "            x (torch.Tensor): Tensor de entrada.\n",
    "\n",
    "        Returns:\n",
    "            torch.Tensor: Salida de la capa lineal.\n",
    "        \"\"\"\n",
    "        return F.linear(x, self.weight, self.bias)\n",
    "\n",
    "class LoRALinear(nn.Module):\n",
    "    \"\"\"\n",
    "    Capa lineal con adaptación LoRA sobre una capa congelada.\n",
    "\n",
    "    Args:\n",
    "        frozen_layer (FrozenLinear): Capa lineal congelada.\n",
    "        r (int): Rango de la descomposición de LoRA.\n",
    "        alpha (int): Escalado de LoRA.\n",
    "    \"\"\"\n",
    "    def __init__(self, frozen_layer, r=4, alpha=8):\n",
    "        \"\"\"\n",
    "        Inicializa la capa LoRALinear con matrices A y B entrenables.\n",
    "\n",
    "        Args:\n",
    "            frozen_layer (FrozenLinear): Capa lineal congelada.\n",
    "            r (int): Rango de la descomposición de LoRA.\n",
    "            alpha (int): Escalado de LoRA.\n",
    "        \"\"\"\n",
    "        super().__init__()\n",
    "        self.frozen = frozen_layer\n",
    "        self.r = r\n",
    "        self.alpha = alpha\n",
    "        self.scaling = alpha / r\n",
    "        in_features = frozen_layer.weight.shape[1]\n",
    "        out_features = frozen_layer.weight.shape[0]\n",
    "\n",
    "        self.A = nn.Linear(in_features, r, bias=False)\n",
    "        self.B = nn.Linear(r, out_features, bias=False)\n",
    "\n",
    "        nn.init.kaiming_uniform_(self.A.weight, a=math.sqrt(5))\n",
    "        nn.init.zeros_(self.B.weight)\n",
    "\n",
    "    def forward(self, x):\n",
    "        \"\"\"\n",
    "        Realiza la pasada hacia adelante sumando la salida congelada y la adaptación LoRA.\n",
    "\n",
    "        Args:\n",
    "            x (torch.Tensor): Tensor de entrada.\n",
    "\n",
    "        Returns:\n",
    "            torch.Tensor: Salida de la capa LoRA.\n",
    "        \"\"\"\n",
    "        return self.frozen(x) + self.scaling * self.B(self.A(x))"
   ]
  },
  {
   "cell_type": "code",
   "execution_count": 3,
   "id": "d1cee08a",
   "metadata": {},
   "outputs": [],
   "source": [
    "# Definimos capas congeladas y LoRA, optimizador y hacemos fine-tuning\n",
    "\n",
    "frozen_layer = FrozenLinear(64, 32)\n",
    "lora_layer = LoRALinear(frozen_layer)\n",
    "optimizer = torch.optim.Adam(lora_layer.parameters(), lr=1e-2)\n",
    "\n",
    "losses = []\n",
    "for epoch in range(100):\n",
    "    optimizer.zero_grad()\n",
    "    output = lora_layer(x)\n",
    "    loss = F.mse_loss(output, target)\n",
    "    loss.backward()\n",
    "    optimizer.step()\n",
    "    losses.append(loss.item())"
   ]
  },
  {
   "cell_type": "code",
   "execution_count": 4,
   "id": "ab67dcc4",
   "metadata": {},
   "outputs": [
    {
     "data": {
      "image/png": "[encoded data removed]",
      "text/plain": [
       "<Figure size 640x480 with 1 Axes>"
      ]
     },
     "metadata": {},
     "output_type": "display_data"
    }
   ],
   "source": [
    "# Visualizamos la pérdida durante el fine-tuning\n",
    "\n",
    "plt.plot(losses)\n",
    "plt.title(\"Training Loss - LoRA vs Frozen Linear\")\n",
    "plt.xlabel(\"Epoch\")\n",
    "plt.ylabel(\"MSE Loss\")\n",
    "plt.grid(True)\n",
    "plt.show()"
   ]
  },
  {
   "cell_type": "code",
   "execution_count": 5,
   "id": "89116892",
   "metadata": {},
   "outputs": [
    {
     "data": {
      "image/png": "[encoded data removed]",
      "text/plain": [
       "<Figure size 1500x400 with 6 Axes>"
      ]
     },
     "metadata": {},
     "output_type": "display_data"
    }
   ],
   "source": [
    "# Visualización de pesos antes y después del fine-tuning\n",
    "\n",
    "with torch.no_grad():\n",
    "    A = lora_layer.A.weight  \n",
    "    B = lora_layer.B.weight  \n",
    "    delta_W = (A.T @ B.T).T  \n",
    "\n",
    "    W_frozen = frozen_layer.weight.detach()\n",
    "    W_effective = W_frozen + delta_W\n",
    "\n",
    "plt.figure(figsize=(15, 4))\n",
    "\n",
    "plt.subplot(1, 3, 1)\n",
    "plt.imshow(W_frozen.numpy(), aspect='auto', cmap='Greens')\n",
    "plt.title(\"Matriz de pesos originales (W)\")\n",
    "plt.colorbar()\n",
    "\n",
    "plt.subplot(1, 3, 2)\n",
    "plt.imshow(delta_W.numpy(), aspect='auto', cmap='coolwarm')\n",
    "plt.title(\"Perturbación de LoRA (∆W = A @ B)\")\n",
    "plt.colorbar()\n",
    "\n",
    "plt.subplot(1, 3, 3)\n",
    "plt.imshow(W_effective.numpy(), aspect='auto', cmap='cividis')\n",
    "plt.title(\"matriz de pesos efectivos (W + ∆W)\")\n",
    "plt.colorbar()\n",
    "\n",
    "plt.tight_layout()\n",
    "plt.show()\n",
    "\n"
   ]
  },
  {
   "cell_type": "markdown",
   "id": "f1d8a696",
   "metadata": {},
   "source": [
    "### 3. Generación de resúmenes: Modelo pre-entrenado vs modelos con fine-tuning"
   ]
  },
  {
   "cell_type": "markdown",
   "id": "ab454d8c",
   "metadata": {},
   "source": [
    "Ahora vamos a algo más realista. Vamos a utilizar un modelo preentrenado: **`google/flan-t5-small`**, diseñado para tareas de generación de texto.\n",
    "\n",
    "En esta sección:\n",
    "- Cargaremos y preprocesaremos el conjunto de datos `XSum` para tareas de resumen automático.\n",
    "- Evaluaremos la capacidad del modelo original (zero-shot).\n",
    "- Aplicaremos **LoRA** sobre el modelo T5 utilizando la librería `peft` de Hugging Face.\n",
    "- Entrenaremos solo los adaptadores LoRA, manteniendo el resto del modelo congelado.\n",
    "\n",
    "Esta parte es esencial para ver cómo se aplica LoRA en la práctica con un modelo grande y un conjunto de datos real. Además, compararemos el rendimiento del modelo pre-entrenado con diferentes fine-tunings."
   ]
  },
  {
   "cell_type": "code",
   "execution_count": 6,
   "id": "09d94e08",
   "metadata": {},
   "outputs": [
    {
     "name": "stderr",
     "output_type": "stream",
     "text": [
      "/Users/fdiazja/trial_reqs_env/lib/python3.10/site-packages/tqdm/auto.py:21: TqdmWarning: IProgress not found. Please update jupyter and ipywidgets. See https://ipywidgets.readthedocs.io/en/stable/user_install.html\n",
      "  from .autonotebook import tqdm as notebook_tqdm\n",
      "W0522 18:19:51.339000 5627 torch/distributed/elastic/multiprocessing/redirects.py:29] NOTE: Redirects are currently not supported in Windows or MacOs.\n"
     ]
    }
   ],
   "source": [
    "# Importamos librerías necesarias\n",
    "\n",
    "from datasets import load_dataset\n",
    "from transformers import AutoTokenizer, T5ForConditionalGeneration\n",
    "from transformers import Seq2SeqTrainer, Seq2SeqTrainingArguments, DataCollatorForSeq2Seq\n",
    "import evaluate\n",
    "import numpy as np\n",
    "from peft import LoraConfig, get_peft_model, TaskType\n",
    "import pandas as pd"
   ]
  },
  {
   "cell_type": "code",
   "execution_count": 7,
   "id": "62fa90b8",
   "metadata": {},
   "outputs": [
    {
     "name": "stderr",
     "output_type": "stream",
     "text": [
      "/Users/fdiazja/trial_reqs_env/lib/python3.10/site-packages/huggingface_hub/file_download.py:943: FutureWarning: `resume_download` is deprecated and will be removed in version 1.0.0. Downloads always resume when possible. If you want to force a new download, use `force_download=True`.\n",
      "  warnings.warn(\n",
      "/Users/fdiazja/trial_reqs_env/lib/python3.10/site-packages/datasets/load.py:1461: FutureWarning: The repository for xsum contains custom code which must be executed to correctly load the dataset. You can inspect the repository content at https://hf.co/datasets/xsum\n",
      "You can avoid this message in future by passing the argument `trust_remote_code=True`.\n",
      "Passing `trust_remote_code=True` will be mandatory to load this dataset from the next major release of `datasets`.\n",
      "  warnings.warn(\n",
      "Map:   0%|          | 0/270 [00:00<?, ? examples/s]/Users/fdiazja/trial_reqs_env/lib/python3.10/site-packages/transformers/tokenization_utils_base.py:3892: UserWarning: `as_target_tokenizer` is deprecated and will be removed in v5 of Transformers. You can tokenize your labels by using the argument `text_target` of the regular `__call__` method (either in the same call as your input texts if you use the same keyword arguments, or in a separate call.\n",
      "  warnings.warn(\n",
      "Map: 100%|██████████| 270/270 [00:00<00:00, 4720.36 examples/s]\n",
      "Map: 100%|██████████| 30/30 [00:00<00:00, 3111.73 examples/s]\n"
     ]
    }
   ],
   "source": [
    "# Importamos modelo pre-entrenado, tokenizador, dataset y procesamos los datos\n",
    "\n",
    "model_id = \"google/flan-t5-small\"\n",
    "tokenizer = AutoTokenizer.from_pretrained(model_id)\n",
    "model_full = T5ForConditionalGeneration.from_pretrained(model_id)\n",
    "model_full = model_full.to(\"cpu\")\n",
    "\n",
    "dataset = load_dataset(\"xsum\")\n",
    "dataset = dataset[\"train\"].select(range(300)).train_test_split(test_size=0.1)\n",
    "\n",
    "max_input_length = 128\n",
    "max_target_length = 32\n",
    "\n",
    "def preprocess(example):\n",
    "    \"\"\"\n",
    "    Preprocesa un ejemplo del dataset para el modelo T5, agregando el prompt y tokenizando.\n",
    "\n",
    "    Args:\n",
    "        example (dict): Diccionario con las claves 'document' y 'summary'.\n",
    "\n",
    "    Returns:\n",
    "        dict: Diccionario con los input_ids y labels tokenizados.\n",
    "    \"\"\"\n",
    "    inputs = [\"summarize: \" + doc for doc in example[\"document\"]]\n",
    "    model_inputs = tokenizer(inputs, max_length=max_input_length, padding=\"max_length\", truncation=True)\n",
    "    with tokenizer.as_target_tokenizer():\n",
    "        labels = tokenizer(example[\"summary\"], max_length=max_target_length, padding=\"max_length\", truncation=True)\n",
    "    model_inputs[\"labels\"] = labels[\"input_ids\"]\n",
    "    return model_inputs\n",
    "\n",
    "tokenized_dataset = dataset.map(preprocess, batched=True, remove_columns=dataset[\"train\"].column_names)"
   ]
  },
  {
   "cell_type": "code",
   "execution_count": 8,
   "id": "a256ba4b",
   "metadata": {},
   "outputs": [
    {
     "name": "stdout",
     "output_type": "stream",
     "text": [
      "\n",
      "Texto original:\n",
      " The Doncaster Central MP was one of three members to be chosen in a secret ballot, succeeding Natascha Engel who lost her seat at the election.\n",
      "Labour's Lindsay Hoyle topped the ballot and was re-elected as chairman of ways and means. In that role, he will preside over Budget debates.\n",
      "Tory Eleanor Laing was also re-elected as another deputy to John Bercow.\n",
      "The Commons Speaker, who has held the role since 2009, was himself re-elected without a formal vote two weeks ago.\n",
      "As he first stood for the Commons as a Conservative MP, Mr Bercow's deputies must be compri\n"
     ]
    }
   ],
   "source": [
    "# Generamos texto completo y lo tokenizamos\n",
    "\n",
    "sample = dataset[\"test\"][0][\"document\"]\n",
    "ref_summary = dataset[\"test\"][0][\"summary\"]\n",
    "input_ids = tokenizer(\"summarize: \" + sample, return_tensors=\"pt\", truncation=True, max_length=512).input_ids.to(\"cpu\")\n",
    "output_full = model_full.generate(input_ids, max_length=128)\n",
    "summary_full = tokenizer.decode(output_full[0], skip_special_tokens=True)\n",
    "\n",
    "print(\"\\nTexto original:\\n\", sample[:565])"
   ]
  },
  {
   "cell_type": "code",
   "execution_count": 9,
   "id": "0ee6ecb7",
   "metadata": {},
   "outputs": [
    {
     "name": "stdout",
     "output_type": "stream",
     "text": [
      "\n",
      "Resumen generado (Zero-shot, modelo preentrenado sin fine-tuning):\n",
      " The Conservatives have re-elected Deputy Speaker of the Commons in the first election in a row.\n"
     ]
    }
   ],
   "source": [
    "# Generamos resumen usando el modelo original\n",
    "model_zero = T5ForConditionalGeneration.from_pretrained(model_id).to(\"cpu\")\n",
    "input_ids_zero = tokenizer(\"summarize: \" + sample, return_tensors=\"pt\").input_ids.to(\"cpu\")\n",
    "output_zero = model_zero.generate(input_ids_zero, max_length=64)\n",
    "summary_zero = tokenizer.decode(output_zero[0], skip_special_tokens=True)\n",
    "\n",
    "print(\"\\nResumen generado (Zero-shot, modelo preentrenado sin fine-tuning):\\n\", summary_zero)"
   ]
  },
  {
   "cell_type": "code",
   "execution_count": 10,
   "id": "734f1ac3",
   "metadata": {},
   "outputs": [
    {
     "name": "stderr",
     "output_type": "stream",
     "text": [
      "  0%|          | 0/405 [00:00<?, ?it/s]/Users/fdiazja/trial_reqs_env/lib/python3.10/site-packages/torch/utils/data/dataloader.py:683: UserWarning: 'pin_memory' argument is set as true but not supported on MPS now, then device pinned memory won't be used.\n",
      "  warnings.warn(warn_msg)\n",
      "  3%|▎         | 11/405 [00:01<00:52,  7.48it/s]"
     ]
    },
    {
     "name": "stdout",
     "output_type": "stream",
     "text": [
      "{'loss': 10.8805, 'grad_norm': 12.730035781860352, 'learning_rate': 4.876543209876544e-05, 'epoch': 0.07}\n"
     ]
    },
    {
     "name": "stderr",
     "output_type": "stream",
     "text": [
      "  5%|▌         | 21/405 [00:03<00:49,  7.76it/s]"
     ]
    },
    {
     "name": "stdout",
     "output_type": "stream",
     "text": [
      "{'loss': 7.5613, 'grad_norm': 6.170865535736084, 'learning_rate': 4.7530864197530866e-05, 'epoch': 0.15}\n"
     ]
    },
    {
     "name": "stderr",
     "output_type": "stream",
     "text": [
      "  8%|▊         | 31/405 [00:04<00:48,  7.70it/s]"
     ]
    },
    {
     "name": "stdout",
     "output_type": "stream",
     "text": [
      "{'loss': 6.7545, 'grad_norm': 16.52354621887207, 'learning_rate': 4.62962962962963e-05, 'epoch': 0.22}\n"
     ]
    },
    {
     "name": "stderr",
     "output_type": "stream",
     "text": [
      " 10%|█         | 41/405 [00:05<00:48,  7.51it/s]"
     ]
    },
    {
     "name": "stdout",
     "output_type": "stream",
     "text": [
      "{'loss': 5.1598, 'grad_norm': 27.235820770263672, 'learning_rate': 4.506172839506173e-05, 'epoch': 0.3}\n"
     ]
    },
    {
     "name": "stderr",
     "output_type": "stream",
     "text": [
      " 13%|█▎        | 51/405 [00:07<00:46,  7.66it/s]"
     ]
    },
    {
     "name": "stdout",
     "output_type": "stream",
     "text": [
      "{'loss': 7.3569, 'grad_norm': 12.812726020812988, 'learning_rate': 4.3827160493827164e-05, 'epoch': 0.37}\n"
     ]
    },
    {
     "name": "stderr",
     "output_type": "stream",
     "text": [
      " 15%|█▌        | 61/405 [00:08<00:44,  7.80it/s]"
     ]
    },
    {
     "name": "stdout",
     "output_type": "stream",
     "text": [
      "{'loss': 6.6307, 'grad_norm': 25.279823303222656, 'learning_rate': 4.259259259259259e-05, 'epoch': 0.44}\n"
     ]
    },
    {
     "name": "stderr",
     "output_type": "stream",
     "text": [
      " 18%|█▊        | 71/405 [00:09<00:43,  7.74it/s]"
     ]
    },
    {
     "name": "stdout",
     "output_type": "stream",
     "text": [
      "{'loss': 6.7209, 'grad_norm': 16.357820510864258, 'learning_rate': 4.135802469135803e-05, 'epoch': 0.52}\n"
     ]
    },
    {
     "name": "stderr",
     "output_type": "stream",
     "text": [
      " 20%|██        | 81/405 [00:10<00:41,  7.76it/s]"
     ]
    },
    {
     "name": "stdout",
     "output_type": "stream",
     "text": [
      "{'loss': 5.0206, 'grad_norm': 33.314430236816406, 'learning_rate': 4.012345679012346e-05, 'epoch': 0.59}\n"
     ]
    },
    {
     "name": "stderr",
     "output_type": "stream",
     "text": [
      " 22%|██▏       | 91/405 [00:12<00:40,  7.69it/s]"
     ]
    },
    {
     "name": "stdout",
     "output_type": "stream",
     "text": [
      "{'loss': 5.3189, 'grad_norm': 17.031137466430664, 'learning_rate': 3.888888888888889e-05, 'epoch': 0.67}\n"
     ]
    },
    {
     "name": "stderr",
     "output_type": "stream",
     "text": [
      " 25%|██▍       | 101/405 [00:13<00:39,  7.73it/s]"
     ]
    },
    {
     "name": "stdout",
     "output_type": "stream",
     "text": [
      "{'loss': 5.9254, 'grad_norm': 30.187822341918945, 'learning_rate': 3.7654320987654326e-05, 'epoch': 0.74}\n"
     ]
    },
    {
     "name": "stderr",
     "output_type": "stream",
     "text": [
      " 27%|██▋       | 111/405 [00:14<00:38,  7.68it/s]"
     ]
    },
    {
     "name": "stdout",
     "output_type": "stream",
     "text": [
      "{'loss': 4.8947, 'grad_norm': 9.625133514404297, 'learning_rate': 3.6419753086419754e-05, 'epoch': 0.81}\n"
     ]
    },
    {
     "name": "stderr",
     "output_type": "stream",
     "text": [
      " 30%|██▉       | 121/405 [00:16<00:37,  7.65it/s]"
     ]
    },
    {
     "name": "stdout",
     "output_type": "stream",
     "text": [
      "{'loss': 4.7889, 'grad_norm': 34.28499984741211, 'learning_rate': 3.518518518518519e-05, 'epoch': 0.89}\n"
     ]
    },
    {
     "name": "stderr",
     "output_type": "stream",
     "text": [
      " 32%|███▏      | 131/405 [00:17<00:36,  7.61it/s]"
     ]
    },
    {
     "name": "stdout",
     "output_type": "stream",
     "text": [
      "{'loss': 5.3326, 'grad_norm': 7.983232021331787, 'learning_rate': 3.395061728395062e-05, 'epoch': 0.96}\n"
     ]
    },
    {
     "name": "stderr",
     "output_type": "stream",
     "text": [
      "                                                 \n",
      " 34%|███▎      | 136/405 [00:18<01:07,  3.97it/s]"
     ]
    },
    {
     "name": "stdout",
     "output_type": "stream",
     "text": [
      "{'eval_loss': 3.5894320011138916, 'eval_runtime': 0.403, 'eval_samples_per_second': 74.439, 'eval_steps_per_second': 37.219, 'epoch': 1.0}\n"
     ]
    },
    {
     "name": "stderr",
     "output_type": "stream",
     "text": [
      " 35%|███▍      | 141/405 [00:19<00:40,  6.60it/s]"
     ]
    },
    {
     "name": "stdout",
     "output_type": "stream",
     "text": [
      "{'loss': 4.0985, 'grad_norm': 5.871433734893799, 'learning_rate': 3.271604938271605e-05, 'epoch': 1.04}\n"
     ]
    },
    {
     "name": "stderr",
     "output_type": "stream",
     "text": [
      " 37%|███▋      | 151/405 [00:20<00:33,  7.57it/s]"
     ]
    },
    {
     "name": "stdout",
     "output_type": "stream",
     "text": [
      "{'loss': 4.1004, 'grad_norm': 8.88196086883545, 'learning_rate': 3.148148148148148e-05, 'epoch': 1.11}\n"
     ]
    },
    {
     "name": "stderr",
     "output_type": "stream",
     "text": [
      " 40%|███▉      | 161/405 [00:21<00:31,  7.66it/s]"
     ]
    },
    {
     "name": "stdout",
     "output_type": "stream",
     "text": [
      "{'loss': 3.9693, 'grad_norm': 7.498966693878174, 'learning_rate': 3.0246913580246916e-05, 'epoch': 1.19}\n"
     ]
    },
    {
     "name": "stderr",
     "output_type": "stream",
     "text": [
      " 42%|████▏     | 171/405 [00:23<00:30,  7.57it/s]"
     ]
    },
    {
     "name": "stdout",
     "output_type": "stream",
     "text": [
      "{'loss': 4.1998, 'grad_norm': 11.600198745727539, 'learning_rate': 2.9012345679012347e-05, 'epoch': 1.26}\n"
     ]
    },
    {
     "name": "stderr",
     "output_type": "stream",
     "text": [
      " 45%|████▍     | 181/405 [00:24<00:29,  7.65it/s]"
     ]
    },
    {
     "name": "stdout",
     "output_type": "stream",
     "text": [
      "{'loss': 3.9242, 'grad_norm': 11.616741180419922, 'learning_rate': 2.777777777777778e-05, 'epoch': 1.33}\n"
     ]
    },
    {
     "name": "stderr",
     "output_type": "stream",
     "text": [
      " 47%|████▋     | 191/405 [00:25<00:28,  7.61it/s]"
     ]
    },
    {
     "name": "stdout",
     "output_type": "stream",
     "text": [
      "{'loss': 3.9827, 'grad_norm': 5.939660549163818, 'learning_rate': 2.654320987654321e-05, 'epoch': 1.41}\n"
     ]
    },
    {
     "name": "stderr",
     "output_type": "stream",
     "text": [
      " 50%|████▉     | 201/405 [00:27<00:26,  7.62it/s]"
     ]
    },
    {
     "name": "stdout",
     "output_type": "stream",
     "text": [
      "{'loss': 4.1781, 'grad_norm': 5.659160614013672, 'learning_rate': 2.5308641975308646e-05, 'epoch': 1.48}\n"
     ]
    },
    {
     "name": "stderr",
     "output_type": "stream",
     "text": [
      " 52%|█████▏    | 211/405 [00:28<00:25,  7.66it/s]"
     ]
    },
    {
     "name": "stdout",
     "output_type": "stream",
     "text": [
      "{'loss': 3.9532, 'grad_norm': 7.307718276977539, 'learning_rate': 2.4074074074074074e-05, 'epoch': 1.56}\n"
     ]
    },
    {
     "name": "stderr",
     "output_type": "stream",
     "text": [
      " 55%|█████▍    | 221/405 [00:29<00:24,  7.62it/s]"
     ]
    },
    {
     "name": "stdout",
     "output_type": "stream",
     "text": [
      "{'loss': 3.8657, 'grad_norm': 5.4911346435546875, 'learning_rate': 2.2839506172839506e-05, 'epoch': 1.63}\n"
     ]
    },
    {
     "name": "stderr",
     "output_type": "stream",
     "text": [
      " 57%|█████▋    | 231/405 [00:30<00:22,  7.62it/s]"
     ]
    },
    {
     "name": "stdout",
     "output_type": "stream",
     "text": [
      "{'loss': 3.4109, 'grad_norm': 7.432113170623779, 'learning_rate': 2.1604938271604937e-05, 'epoch': 1.7}\n"
     ]
    },
    {
     "name": "stderr",
     "output_type": "stream",
     "text": [
      " 60%|█████▉    | 241/405 [00:32<00:21,  7.59it/s]"
     ]
    },
    {
     "name": "stdout",
     "output_type": "stream",
     "text": [
      "{'loss': 3.4126, 'grad_norm': 6.10429573059082, 'learning_rate': 2.037037037037037e-05, 'epoch': 1.78}\n"
     ]
    },
    {
     "name": "stderr",
     "output_type": "stream",
     "text": [
      " 62%|██████▏   | 251/405 [00:33<00:20,  7.61it/s]"
     ]
    },
    {
     "name": "stdout",
     "output_type": "stream",
     "text": [
      "{'loss': 3.7374, 'grad_norm': 7.326419353485107, 'learning_rate': 1.91358024691358e-05, 'epoch': 1.85}\n"
     ]
    },
    {
     "name": "stderr",
     "output_type": "stream",
     "text": [
      " 64%|██████▍   | 261/405 [00:34<00:18,  7.60it/s]"
     ]
    },
    {
     "name": "stdout",
     "output_type": "stream",
     "text": [
      "{'loss': 3.5065, 'grad_norm': 7.1694841384887695, 'learning_rate': 1.7901234567901236e-05, 'epoch': 1.93}\n"
     ]
    },
    {
     "name": "stderr",
     "output_type": "stream",
     "text": [
      " 67%|██████▋   | 270/405 [00:36<00:17,  7.65it/s]"
     ]
    },
    {
     "name": "stdout",
     "output_type": "stream",
     "text": [
      "{'loss': 3.7928, 'grad_norm': 5.6659393310546875, 'learning_rate': 1.6666666666666667e-05, 'epoch': 2.0}\n"
     ]
    },
    {
     "name": "stderr",
     "output_type": "stream",
     "text": [
      "                                                 \n",
      " 67%|██████▋   | 271/405 [00:36<00:32,  4.09it/s]"
     ]
    },
    {
     "name": "stdout",
     "output_type": "stream",
     "text": [
      "{'eval_loss': 3.004103660583496, 'eval_runtime': 0.3731, 'eval_samples_per_second': 80.402, 'eval_steps_per_second': 40.201, 'epoch': 2.0}\n"
     ]
    },
    {
     "name": "stderr",
     "output_type": "stream",
     "text": [
      " 69%|██████▉   | 281/405 [00:37<00:16,  7.40it/s]"
     ]
    },
    {
     "name": "stdout",
     "output_type": "stream",
     "text": [
      "{'loss': 3.4305, 'grad_norm': 6.0794854164123535, 'learning_rate': 1.54320987654321e-05, 'epoch': 2.07}\n"
     ]
    },
    {
     "name": "stderr",
     "output_type": "stream",
     "text": [
      " 72%|███████▏  | 291/405 [00:39<00:14,  7.61it/s]"
     ]
    },
    {
     "name": "stdout",
     "output_type": "stream",
     "text": [
      "{'loss': 3.5447, 'grad_norm': 7.389158248901367, 'learning_rate': 1.419753086419753e-05, 'epoch': 2.15}\n"
     ]
    },
    {
     "name": "stderr",
     "output_type": "stream",
     "text": [
      " 74%|███████▍  | 301/405 [00:40<00:13,  7.59it/s]"
     ]
    },
    {
     "name": "stdout",
     "output_type": "stream",
     "text": [
      "{'loss': 3.4085, 'grad_norm': 5.847677707672119, 'learning_rate': 1.2962962962962962e-05, 'epoch': 2.22}\n"
     ]
    },
    {
     "name": "stderr",
     "output_type": "stream",
     "text": [
      " 77%|███████▋  | 311/405 [00:41<00:12,  7.58it/s]"
     ]
    },
    {
     "name": "stdout",
     "output_type": "stream",
     "text": [
      "{'loss': 3.3203, 'grad_norm': 6.313151836395264, 'learning_rate': 1.1728395061728396e-05, 'epoch': 2.3}\n"
     ]
    },
    {
     "name": "stderr",
     "output_type": "stream",
     "text": [
      " 79%|███████▉  | 321/405 [00:43<00:11,  7.61it/s]"
     ]
    },
    {
     "name": "stdout",
     "output_type": "stream",
     "text": [
      "{'loss': 3.4367, 'grad_norm': 10.064452171325684, 'learning_rate': 1.0493827160493827e-05, 'epoch': 2.37}\n"
     ]
    },
    {
     "name": "stderr",
     "output_type": "stream",
     "text": [
      " 82%|████████▏ | 331/405 [00:44<00:09,  7.57it/s]"
     ]
    },
    {
     "name": "stdout",
     "output_type": "stream",
     "text": [
      "{'loss': 3.3792, 'grad_norm': 8.659192085266113, 'learning_rate': 9.259259259259259e-06, 'epoch': 2.44}\n"
     ]
    },
    {
     "name": "stderr",
     "output_type": "stream",
     "text": [
      " 84%|████████▍ | 341/405 [00:45<00:08,  7.62it/s]"
     ]
    },
    {
     "name": "stdout",
     "output_type": "stream",
     "text": [
      "{'loss': 3.5221, 'grad_norm': 7.012012481689453, 'learning_rate': 8.02469135802469e-06, 'epoch': 2.52}\n"
     ]
    },
    {
     "name": "stderr",
     "output_type": "stream",
     "text": [
      " 87%|████████▋ | 351/405 [00:47<00:07,  7.58it/s]"
     ]
    },
    {
     "name": "stdout",
     "output_type": "stream",
     "text": [
      "{'loss': 3.3643, 'grad_norm': 49.341251373291016, 'learning_rate': 6.790123456790123e-06, 'epoch': 2.59}\n"
     ]
    },
    {
     "name": "stderr",
     "output_type": "stream",
     "text": [
      " 89%|████████▉ | 361/405 [00:48<00:05,  7.59it/s]"
     ]
    },
    {
     "name": "stdout",
     "output_type": "stream",
     "text": [
      "{'loss': 3.395, 'grad_norm': 45.584556579589844, 'learning_rate': 5.555555555555556e-06, 'epoch': 2.67}\n"
     ]
    },
    {
     "name": "stderr",
     "output_type": "stream",
     "text": [
      " 92%|█████████▏| 371/405 [00:49<00:04,  7.60it/s]"
     ]
    },
    {
     "name": "stdout",
     "output_type": "stream",
     "text": [
      "{'loss': 3.2815, 'grad_norm': 12.255223274230957, 'learning_rate': 4.3209876543209875e-06, 'epoch': 2.74}\n"
     ]
    },
    {
     "name": "stderr",
     "output_type": "stream",
     "text": [
      " 94%|█████████▍| 381/405 [00:51<00:03,  7.62it/s]"
     ]
    },
    {
     "name": "stdout",
     "output_type": "stream",
     "text": [
      "{'loss': 3.1899, 'grad_norm': 9.442831993103027, 'learning_rate': 3.0864197530864196e-06, 'epoch': 2.81}\n"
     ]
    },
    {
     "name": "stderr",
     "output_type": "stream",
     "text": [
      " 97%|█████████▋| 391/405 [00:52<00:01,  7.66it/s]"
     ]
    },
    {
     "name": "stdout",
     "output_type": "stream",
     "text": [
      "{'loss': 3.1801, 'grad_norm': 5.639120578765869, 'learning_rate': 1.8518518518518519e-06, 'epoch': 2.89}\n"
     ]
    },
    {
     "name": "stderr",
     "output_type": "stream",
     "text": [
      " 99%|█████████▉| 401/405 [00:53<00:00,  7.61it/s]"
     ]
    },
    {
     "name": "stdout",
     "output_type": "stream",
     "text": [
      "{'loss': 3.336, 'grad_norm': 8.086812973022461, 'learning_rate': 6.17283950617284e-07, 'epoch': 2.96}\n"
     ]
    },
    {
     "name": "stderr",
     "output_type": "stream",
     "text": [
      "                                                 \n",
      "100%|██████████| 405/405 [00:54<00:00,  7.42it/s]"
     ]
    },
    {
     "name": "stdout",
     "output_type": "stream",
     "text": [
      "{'eval_loss': 2.8214786052703857, 'eval_runtime': 0.3714, 'eval_samples_per_second': 80.786, 'eval_steps_per_second': 40.393, 'epoch': 3.0}\n",
      "{'train_runtime': 54.6088, 'train_samples_per_second': 14.833, 'train_steps_per_second': 7.416, 'train_loss': 4.492560186503846, 'epoch': 3.0}\n"
     ]
    },
    {
     "name": "stderr",
     "output_type": "stream",
     "text": [
      "\n"
     ]
    },
    {
     "data": {
      "text/plain": [
       "TrainOutput(global_step=405, training_loss=4.492560186503846, metrics={'train_runtime': 54.6088, 'train_samples_per_second': 14.833, 'train_steps_per_second': 7.416, 'train_loss': 4.492560186503846, 'epoch': 3.0})"
      ]
     },
     "execution_count": 10,
     "metadata": {},
     "output_type": "execute_result"
    }
   ],
   "source": [
    "# Realizamos fine-tuning cmpleto del modelo pre-entrenado con el fin de mejorar la generación de resúmenes\n",
    "\n",
    "args_full = Seq2SeqTrainingArguments(\n",
    "    output_dir=\"./flan_full\",\n",
    "    per_device_train_batch_size=2,\n",
    "    per_device_eval_batch_size=2,\n",
    "    num_train_epochs=3,\n",
    "    logging_steps=10,\n",
    "    evaluation_strategy=\"epoch\",\n",
    "    save_strategy=\"no\",\n",
    "    report_to=\"none\",\n",
    "    logging_dir=None\n",
    ")\n",
    "\n",
    "data_collator = DataCollatorForSeq2Seq(tokenizer, model=model_full)\n",
    "\n",
    "trainer_full = Seq2SeqTrainer(\n",
    "    model=model_full,\n",
    "    args=args_full,\n",
    "    train_dataset=tokenized_dataset[\"train\"],\n",
    "    eval_dataset=tokenized_dataset[\"test\"],\n",
    "    tokenizer=tokenizer,\n",
    "    data_collator=data_collator,\n",
    ")\n",
    "\n",
    "trainer_full.train()"
   ]
  },
  {
   "cell_type": "code",
   "execution_count": 11,
   "id": "6813bc8b",
   "metadata": {},
   "outputs": [
    {
     "name": "stdout",
     "output_type": "stream",
     "text": [
      "\n",
      "Texto original:\n",
      " The Doncaster Central MP was one of three members to be chosen in a secret ballot, succeeding Natascha Engel who lost her seat at the election.\n",
      "Labour's Lindsay Hoyle topped the ballot and was re-elected as chairman of ways and means. In that role, he will preside over Budget debates.\n",
      "Tory Eleanor Laing was also re-elected as another deputy to John Bercow.\n",
      "The Commons Speaker, who has held the role since 2009, was himself re-elected without a formal vote two weeks ago.\n",
      "As he first stood for the \n",
      "\n",
      "Resumen generado (Fine-tuning completo):\n",
      " The Conservatives have been elected as the first Conservative MP to be elected in the Commons, with the first election in the UK.\n"
     ]
    }
   ],
   "source": [
    "# Generamos un resumen con el modelo completamente ajustado\n",
    "\n",
    "model_full = model_full.to(\"cpu\")\n",
    "output_full = model_full.generate(input_ids, max_length=64)\n",
    "summary_full = tokenizer.decode(output_full[0], skip_special_tokens=True)\n",
    "\n",
    "print(\"\\nTexto original:\\n\", sample[:500])\n",
    "print(\"\\nResumen generado (Fine-tuning completo):\\n\", summary_full)"
   ]
  },
  {
   "cell_type": "code",
   "execution_count": 12,
   "id": "81c5da41",
   "metadata": {},
   "outputs": [
    {
     "name": "stdout",
     "output_type": "stream",
     "text": [
      "trainable params: 344,064 || all params: 77,305,216 || trainable%: 0.445072166928555\n"
     ]
    },
    {
     "name": "stderr",
     "output_type": "stream",
     "text": [
      "  3%|▎         | 11/405 [00:01<00:45,  8.61it/s]"
     ]
    },
    {
     "name": "stdout",
     "output_type": "stream",
     "text": [
      "{'loss': 11.5287, 'grad_norm': 0.767388641834259, 'learning_rate': 4.876543209876544e-05, 'epoch': 0.07}\n"
     ]
    },
    {
     "name": "stderr",
     "output_type": "stream",
     "text": [
      "  5%|▌         | 21/405 [00:02<00:44,  8.65it/s]"
     ]
    },
    {
     "name": "stdout",
     "output_type": "stream",
     "text": [
      "{'loss': 8.3929, 'grad_norm': 0.4672057032585144, 'learning_rate': 4.7530864197530866e-05, 'epoch': 0.15}\n"
     ]
    },
    {
     "name": "stderr",
     "output_type": "stream",
     "text": [
      "  8%|▊         | 31/405 [00:03<00:43,  8.69it/s]"
     ]
    },
    {
     "name": "stdout",
     "output_type": "stream",
     "text": [
      "{'loss': 7.8475, 'grad_norm': 1.448918342590332, 'learning_rate': 4.62962962962963e-05, 'epoch': 0.22}\n"
     ]
    },
    {
     "name": "stderr",
     "output_type": "stream",
     "text": [
      " 10%|█         | 41/405 [00:04<00:41,  8.71it/s]"
     ]
    },
    {
     "name": "stdout",
     "output_type": "stream",
     "text": [
      "{'loss': 6.3015, 'grad_norm': 4.742909908294678, 'learning_rate': 4.506172839506173e-05, 'epoch': 0.3}\n"
     ]
    },
    {
     "name": "stderr",
     "output_type": "stream",
     "text": [
      " 13%|█▎        | 51/405 [00:05<00:40,  8.66it/s]"
     ]
    },
    {
     "name": "stdout",
     "output_type": "stream",
     "text": [
      "{'loss': 9.5183, 'grad_norm': 0.9906569719314575, 'learning_rate': 4.3827160493827164e-05, 'epoch': 0.37}\n"
     ]
    },
    {
     "name": "stderr",
     "output_type": "stream",
     "text": [
      " 15%|█▌        | 61/405 [00:07<00:39,  8.64it/s]"
     ]
    },
    {
     "name": "stdout",
     "output_type": "stream",
     "text": [
      "{'loss': 9.2976, 'grad_norm': 2.2274208068847656, 'learning_rate': 4.259259259259259e-05, 'epoch': 0.44}\n"
     ]
    },
    {
     "name": "stderr",
     "output_type": "stream",
     "text": [
      " 18%|█▊        | 71/405 [00:08<00:38,  8.65it/s]"
     ]
    },
    {
     "name": "stdout",
     "output_type": "stream",
     "text": [
      "{'loss': 9.6657, 'grad_norm': 1.3797478675842285, 'learning_rate': 4.135802469135803e-05, 'epoch': 0.52}\n"
     ]
    },
    {
     "name": "stderr",
     "output_type": "stream",
     "text": [
      " 20%|██        | 81/405 [00:09<00:38,  8.47it/s]"
     ]
    },
    {
     "name": "stdout",
     "output_type": "stream",
     "text": [
      "{'loss': 7.3343, 'grad_norm': 3.543659210205078, 'learning_rate': 4.012345679012346e-05, 'epoch': 0.59}\n"
     ]
    },
    {
     "name": "stderr",
     "output_type": "stream",
     "text": [
      " 22%|██▏       | 91/405 [00:10<00:36,  8.59it/s]"
     ]
    },
    {
     "name": "stdout",
     "output_type": "stream",
     "text": [
      "{'loss': 7.7157, 'grad_norm': 1.234450101852417, 'learning_rate': 3.888888888888889e-05, 'epoch': 0.67}\n"
     ]
    },
    {
     "name": "stderr",
     "output_type": "stream",
     "text": [
      " 25%|██▍       | 101/405 [00:11<00:35,  8.59it/s]"
     ]
    },
    {
     "name": "stdout",
     "output_type": "stream",
     "text": [
      "{'loss': 9.2358, 'grad_norm': 3.074042320251465, 'learning_rate': 3.7654320987654326e-05, 'epoch': 0.74}\n"
     ]
    },
    {
     "name": "stderr",
     "output_type": "stream",
     "text": [
      " 27%|██▋       | 111/405 [00:12<00:34,  8.59it/s]"
     ]
    },
    {
     "name": "stdout",
     "output_type": "stream",
     "text": [
      "{'loss': 7.5863, 'grad_norm': 1.0742480754852295, 'learning_rate': 3.6419753086419754e-05, 'epoch': 0.81}\n"
     ]
    },
    {
     "name": "stderr",
     "output_type": "stream",
     "text": [
      " 30%|██▉       | 121/405 [00:14<00:33,  8.54it/s]"
     ]
    },
    {
     "name": "stdout",
     "output_type": "stream",
     "text": [
      "{'loss': 7.4142, 'grad_norm': 4.4931182861328125, 'learning_rate': 3.518518518518519e-05, 'epoch': 0.89}\n"
     ]
    },
    {
     "name": "stderr",
     "output_type": "stream",
     "text": [
      " 32%|███▏      | 131/405 [00:15<00:31,  8.57it/s]"
     ]
    },
    {
     "name": "stdout",
     "output_type": "stream",
     "text": [
      "{'loss': 9.3654, 'grad_norm': 1.2871861457824707, 'learning_rate': 3.395061728395062e-05, 'epoch': 0.96}\n"
     ]
    },
    {
     "name": "stderr",
     "output_type": "stream",
     "text": [
      "                                                 \n",
      " 34%|███▎      | 136/405 [00:16<01:09,  3.87it/s]"
     ]
    },
    {
     "name": "stdout",
     "output_type": "stream",
     "text": [
      "{'eval_loss': 8.470301628112793, 'eval_runtime': 0.4687, 'eval_samples_per_second': 64.009, 'eval_steps_per_second': 32.005, 'epoch': 1.0}\n"
     ]
    },
    {
     "name": "stderr",
     "output_type": "stream",
     "text": [
      " 35%|███▍      | 141/405 [00:16<00:37,  7.09it/s]"
     ]
    },
    {
     "name": "stdout",
     "output_type": "stream",
     "text": [
      "{'loss': 7.4844, 'grad_norm': 0.6856197118759155, 'learning_rate': 3.271604938271605e-05, 'epoch': 1.04}\n"
     ]
    },
    {
     "name": "stderr",
     "output_type": "stream",
     "text": [
      " 37%|███▋      | 151/405 [00:18<00:29,  8.52it/s]"
     ]
    },
    {
     "name": "stdout",
     "output_type": "stream",
     "text": [
      "{'loss': 7.843, 'grad_norm': 1.5639370679855347, 'learning_rate': 3.148148148148148e-05, 'epoch': 1.11}\n"
     ]
    },
    {
     "name": "stderr",
     "output_type": "stream",
     "text": [
      " 40%|███▉      | 161/405 [00:19<00:29,  8.24it/s]"
     ]
    },
    {
     "name": "stdout",
     "output_type": "stream",
     "text": [
      "{'loss': 7.3641, 'grad_norm': 0.6763544678688049, 'learning_rate': 3.0246913580246916e-05, 'epoch': 1.19}\n"
     ]
    },
    {
     "name": "stderr",
     "output_type": "stream",
     "text": [
      " 42%|████▏     | 171/405 [00:20<00:27,  8.53it/s]"
     ]
    },
    {
     "name": "stdout",
     "output_type": "stream",
     "text": [
      "{'loss': 9.7109, 'grad_norm': 1.7121622562408447, 'learning_rate': 2.9012345679012347e-05, 'epoch': 1.26}\n"
     ]
    },
    {
     "name": "stderr",
     "output_type": "stream",
     "text": [
      " 45%|████▍     | 181/405 [00:21<00:26,  8.59it/s]"
     ]
    },
    {
     "name": "stdout",
     "output_type": "stream",
     "text": [
      "{'loss': 9.7042, 'grad_norm': 3.2803564071655273, 'learning_rate': 2.777777777777778e-05, 'epoch': 1.33}\n"
     ]
    },
    {
     "name": "stderr",
     "output_type": "stream",
     "text": [
      " 47%|████▋     | 191/405 [00:22<00:24,  8.58it/s]"
     ]
    },
    {
     "name": "stdout",
     "output_type": "stream",
     "text": [
      "{'loss': 8.0558, 'grad_norm': 2.6240601539611816, 'learning_rate': 2.654320987654321e-05, 'epoch': 1.41}\n"
     ]
    },
    {
     "name": "stderr",
     "output_type": "stream",
     "text": [
      " 50%|████▉     | 201/405 [00:23<00:23,  8.51it/s]"
     ]
    },
    {
     "name": "stdout",
     "output_type": "stream",
     "text": [
      "{'loss': 10.2636, 'grad_norm': 1.2552382946014404, 'learning_rate': 2.5308641975308646e-05, 'epoch': 1.48}\n"
     ]
    },
    {
     "name": "stderr",
     "output_type": "stream",
     "text": [
      " 52%|█████▏    | 211/405 [00:25<00:22,  8.57it/s]"
     ]
    },
    {
     "name": "stdout",
     "output_type": "stream",
     "text": [
      "{'loss': 8.009, 'grad_norm': 1.7207828760147095, 'learning_rate': 2.4074074074074074e-05, 'epoch': 1.56}\n"
     ]
    },
    {
     "name": "stderr",
     "output_type": "stream",
     "text": [
      " 55%|█████▍    | 221/405 [00:26<00:21,  8.50it/s]"
     ]
    },
    {
     "name": "stdout",
     "output_type": "stream",
     "text": [
      "{'loss': 9.5315, 'grad_norm': 0.8387330174446106, 'learning_rate': 2.2839506172839506e-05, 'epoch': 1.63}\n"
     ]
    },
    {
     "name": "stderr",
     "output_type": "stream",
     "text": [
      " 57%|█████▋    | 231/405 [00:27<00:20,  8.53it/s]"
     ]
    },
    {
     "name": "stdout",
     "output_type": "stream",
     "text": [
      "{'loss': 6.6828, 'grad_norm': 1.0738739967346191, 'learning_rate': 2.1604938271604937e-05, 'epoch': 1.7}\n"
     ]
    },
    {
     "name": "stderr",
     "output_type": "stream",
     "text": [
      " 60%|█████▉    | 241/405 [00:28<00:19,  8.54it/s]"
     ]
    },
    {
     "name": "stdout",
     "output_type": "stream",
     "text": [
      "{'loss': 7.1094, 'grad_norm': 1.1363462209701538, 'learning_rate': 2.037037037037037e-05, 'epoch': 1.78}\n"
     ]
    },
    {
     "name": "stderr",
     "output_type": "stream",
     "text": [
      " 62%|██████▏   | 251/405 [00:29<00:18,  8.53it/s]"
     ]
    },
    {
     "name": "stdout",
     "output_type": "stream",
     "text": [
      "{'loss': 8.6446, 'grad_norm': 2.0166115760803223, 'learning_rate': 1.91358024691358e-05, 'epoch': 1.85}\n"
     ]
    },
    {
     "name": "stderr",
     "output_type": "stream",
     "text": [
      " 64%|██████▍   | 261/405 [00:30<00:16,  8.53it/s]"
     ]
    },
    {
     "name": "stdout",
     "output_type": "stream",
     "text": [
      "{'loss': 6.9487, 'grad_norm': 1.933658242225647, 'learning_rate': 1.7901234567901236e-05, 'epoch': 1.93}\n"
     ]
    },
    {
     "name": "stderr",
     "output_type": "stream",
     "text": [
      " 67%|██████▋   | 270/405 [00:31<00:15,  8.51it/s]"
     ]
    },
    {
     "name": "stdout",
     "output_type": "stream",
     "text": [
      "{'loss': 8.2946, 'grad_norm': 1.0095741748809814, 'learning_rate': 1.6666666666666667e-05, 'epoch': 2.0}\n"
     ]
    },
    {
     "name": "stderr",
     "output_type": "stream",
     "text": [
      "                                                 \n",
      " 67%|██████▋   | 271/405 [00:32<00:35,  3.81it/s]"
     ]
    },
    {
     "name": "stdout",
     "output_type": "stream",
     "text": [
      "{'eval_loss': 7.946014404296875, 'eval_runtime': 0.4765, 'eval_samples_per_second': 62.963, 'eval_steps_per_second': 31.482, 'epoch': 2.0}\n"
     ]
    },
    {
     "name": "stderr",
     "output_type": "stream",
     "text": [
      " 69%|██████▉   | 281/405 [00:33<00:15,  8.20it/s]"
     ]
    },
    {
     "name": "stdout",
     "output_type": "stream",
     "text": [
      "{'loss': 6.7111, 'grad_norm': 1.3113939762115479, 'learning_rate': 1.54320987654321e-05, 'epoch': 2.07}\n"
     ]
    },
    {
     "name": "stderr",
     "output_type": "stream",
     "text": [
      " 72%|███████▏  | 291/405 [00:34<00:13,  8.50it/s]"
     ]
    },
    {
     "name": "stdout",
     "output_type": "stream",
     "text": [
      "{'loss': 8.96, 'grad_norm': 1.555835247039795, 'learning_rate': 1.419753086419753e-05, 'epoch': 2.15}\n"
     ]
    },
    {
     "name": "stderr",
     "output_type": "stream",
     "text": [
      " 74%|███████▍  | 301/405 [00:36<00:12,  8.50it/s]"
     ]
    },
    {
     "name": "stdout",
     "output_type": "stream",
     "text": [
      "{'loss': 7.1944, 'grad_norm': 1.9705473184585571, 'learning_rate': 1.2962962962962962e-05, 'epoch': 2.22}\n"
     ]
    },
    {
     "name": "stderr",
     "output_type": "stream",
     "text": [
      " 77%|███████▋  | 311/405 [00:37<00:10,  8.56it/s]"
     ]
    },
    {
     "name": "stdout",
     "output_type": "stream",
     "text": [
      "{'loss': 8.6059, 'grad_norm': 2.8223209381103516, 'learning_rate': 1.1728395061728396e-05, 'epoch': 2.3}\n"
     ]
    },
    {
     "name": "stderr",
     "output_type": "stream",
     "text": [
      " 79%|███████▉  | 321/405 [00:38<00:09,  8.56it/s]"
     ]
    },
    {
     "name": "stdout",
     "output_type": "stream",
     "text": [
      "{'loss': 9.914, 'grad_norm': 3.4246747493743896, 'learning_rate': 1.0493827160493827e-05, 'epoch': 2.37}\n"
     ]
    },
    {
     "name": "stderr",
     "output_type": "stream",
     "text": [
      " 82%|████████▏ | 331/405 [00:39<00:08,  8.52it/s]"
     ]
    },
    {
     "name": "stdout",
     "output_type": "stream",
     "text": [
      "{'loss': 8.2414, 'grad_norm': 1.322465419769287, 'learning_rate': 9.259259259259259e-06, 'epoch': 2.44}\n"
     ]
    },
    {
     "name": "stderr",
     "output_type": "stream",
     "text": [
      " 84%|████████▍ | 341/405 [00:40<00:07,  8.60it/s]"
     ]
    },
    {
     "name": "stdout",
     "output_type": "stream",
     "text": [
      "{'loss': 8.5178, 'grad_norm': 0.6052649617195129, 'learning_rate': 8.02469135802469e-06, 'epoch': 2.52}\n"
     ]
    },
    {
     "name": "stderr",
     "output_type": "stream",
     "text": [
      " 87%|████████▋ | 351/405 [00:41<00:06,  8.62it/s]"
     ]
    },
    {
     "name": "stdout",
     "output_type": "stream",
     "text": [
      "{'loss': 9.5172, 'grad_norm': 7.189669132232666, 'learning_rate': 6.790123456790123e-06, 'epoch': 2.59}\n"
     ]
    },
    {
     "name": "stderr",
     "output_type": "stream",
     "text": [
      " 89%|████████▉ | 361/405 [00:43<00:05,  8.61it/s]"
     ]
    },
    {
     "name": "stdout",
     "output_type": "stream",
     "text": [
      "{'loss': 8.9974, 'grad_norm': 4.899609088897705, 'learning_rate': 5.555555555555556e-06, 'epoch': 2.67}\n"
     ]
    },
    {
     "name": "stderr",
     "output_type": "stream",
     "text": [
      " 92%|█████████▏| 371/405 [00:44<00:03,  8.62it/s]"
     ]
    },
    {
     "name": "stdout",
     "output_type": "stream",
     "text": [
      "{'loss': 7.555, 'grad_norm': 4.410369396209717, 'learning_rate': 4.3209876543209875e-06, 'epoch': 2.74}\n"
     ]
    },
    {
     "name": "stderr",
     "output_type": "stream",
     "text": [
      " 94%|█████████▍| 381/405 [00:45<00:02,  8.59it/s]"
     ]
    },
    {
     "name": "stdout",
     "output_type": "stream",
     "text": [
      "{'loss': 5.7857, 'grad_norm': 3.541529417037964, 'learning_rate': 3.0864197530864196e-06, 'epoch': 2.81}\n"
     ]
    },
    {
     "name": "stderr",
     "output_type": "stream",
     "text": [
      " 97%|█████████▋| 391/405 [00:46<00:01,  8.60it/s]"
     ]
    },
    {
     "name": "stdout",
     "output_type": "stream",
     "text": [
      "{'loss': 7.206, 'grad_norm': 1.4184731245040894, 'learning_rate': 1.8518518518518519e-06, 'epoch': 2.89}\n"
     ]
    },
    {
     "name": "stderr",
     "output_type": "stream",
     "text": [
      " 99%|█████████▉| 401/405 [00:47<00:00,  8.65it/s]"
     ]
    },
    {
     "name": "stdout",
     "output_type": "stream",
     "text": [
      "{'loss': 6.7253, 'grad_norm': 5.2653350830078125, 'learning_rate': 6.17283950617284e-07, 'epoch': 2.96}\n"
     ]
    },
    {
     "name": "stderr",
     "output_type": "stream",
     "text": [
      "                                                 \n",
      "100%|██████████| 405/405 [00:48<00:00,  8.32it/s]\n"
     ]
    },
    {
     "name": "stdout",
     "output_type": "stream",
     "text": [
      "{'eval_loss': 7.758464336395264, 'eval_runtime': 0.4675, 'eval_samples_per_second': 64.167, 'eval_steps_per_second': 32.084, 'epoch': 3.0}\n",
      "{'train_runtime': 48.6921, 'train_samples_per_second': 16.635, 'train_steps_per_second': 8.318, 'train_loss': 8.25833718570662, 'epoch': 3.0}\n"
     ]
    }
   ],
   "source": [
    "# Realizamos el fine-tuning del modelo pre-entrenado usando LoRA\n",
    "\n",
    "base_model = T5ForConditionalGeneration.from_pretrained(model_id).to(\"cpu\")\n",
    "lora_config = LoraConfig(\n",
    "    task_type=TaskType.SEQ_2_SEQ_LM,\n",
    "    r=8,\n",
    "    lora_alpha=16,\n",
    "    lora_dropout=0.1,\n",
    "    bias=\"none\"\n",
    ")\n",
    "\n",
    "model_lora = get_peft_model(base_model, lora_config)\n",
    "model_lora.print_trainable_parameters()\n",
    "\n",
    "args_lora = Seq2SeqTrainingArguments(\n",
    "    logging_dir=None,        \n",
    "    output_dir=\"./flan_lora\",\n",
    "    per_device_train_batch_size=2,\n",
    "    per_device_eval_batch_size=2,\n",
    "    num_train_epochs=3,\n",
    "    logging_steps=10,\n",
    "    evaluation_strategy=\"epoch\",\n",
    "    save_strategy=\"no\",\n",
    "    report_to=\"none\",\n",
    ")\n",
    "\n",
    "trainer_lora = Seq2SeqTrainer(\n",
    "    model=model_lora,\n",
    "    args=args_lora,\n",
    "    train_dataset=tokenized_dataset[\"train\"],\n",
    "    eval_dataset=tokenized_dataset[\"test\"],\n",
    "    tokenizer=tokenizer,\n",
    "    data_collator=data_collator\n",
    ")\n",
    "\n",
    "trainer_lora.train()\n",
    "\n",
    "model_lora = model_lora.to(\"cpu\")\n",
    "model_lora.base_model = model_lora.base_model.to(\"cpu\") "
   ]
  },
  {
   "cell_type": "code",
   "execution_count": 13,
   "id": "8c40abaa",
   "metadata": {},
   "outputs": [
    {
     "name": "stdout",
     "output_type": "stream",
     "text": [
      "\n",
      "Resumen generado (LoRA):\n",
      " The Conservatives have re-elected Deputy Speaker of the Commons in the first election in a row.\n"
     ]
    }
   ],
   "source": [
    "# Generamos resumen con  LoRA\n",
    "\n",
    "output_lora = model_lora.base_model.generate(input_ids, max_length=64)\n",
    "summary_lora = tokenizer.decode(output_lora[0], skip_special_tokens=True)\n",
    "\n",
    "print(\"\\nResumen generado (LoRA):\\n\", summary_lora)"
   ]
  },
  {
   "cell_type": "code",
   "execution_count": 14,
   "id": "f1d1d733",
   "metadata": {},
   "outputs": [
    {
     "name": "stdout",
     "output_type": "stream",
     "text": [
      "\n",
      "Resumen generado (Zero-shot, modelo preentrenado sin fine-tuning):\n",
      " The Conservatives have re-elected Deputy Speaker of the Commons in the first election in a row.\n",
      "\n",
      "ROUGE (Inicial): {'rouge1': 38.89, 'rouge2': 17.65, 'rougeL': 33.33, 'rougeLsum': 33.33}\n",
      "\n",
      "Resumen generado (Fine-tuning completo):\n",
      " The Conservatives have been elected as the first Conservative MP to be elected in the Commons, with the first election in the UK.\n",
      "\n",
      "ROUGE (Fine-tuning completo): {'rouge1': 23.81, 'rouge2': 10.0, 'rougeL': 23.81, 'rougeLsum': 23.81}\n",
      "\n",
      "Resumen generado (LoRA):\n",
      " The Conservatives have re-elected Deputy Speaker of the Commons in the first election in a row.\n",
      "\n",
      "ROUGE (LoRA): {'rouge1': 38.89, 'rouge2': 17.65, 'rougeL': 33.33, 'rougeLsum': 33.33}\n",
      "                  rouge1  rouge2  rougeL  rougeLsum\n",
      "Zero-shot           0.39    0.18    0.33       0.33\n",
      "Full Fine-tuning    0.24    0.10    0.24       0.24\n",
      "LoRA                0.39    0.18    0.33       0.33\n"
     ]
    }
   ],
   "source": [
    "# Medimos la calidad del resumen generado por el modelo LoRA\n",
    "\n",
    "\n",
    "metric = evaluate.load(\"rouge\")\n",
    "\n",
    "results_zero = metric.compute(predictions=[summary_zero], references=[ref_summary], use_stemmer=True)\n",
    "print(\"\\nResumen generado (Zero-shot, modelo preentrenado sin fine-tuning):\\n\", summary_zero)\n",
    "print(\"\\nROUGE (Inicial):\", {k: round(v * 100, 2) for k, v in results_zero.items()})\n",
    "\n",
    "results_full = metric.compute(predictions=[summary_full], references=[ref_summary], use_stemmer=True)\n",
    "print(\"\\nResumen generado (Fine-tuning completo):\\n\", summary_full)\n",
    "print(\"\\nROUGE (Fine-tuning completo):\", {k: round(v * 100, 2) for k, v in results_full.items()})\n",
    "\n",
    "results_lora = metric.compute(predictions=[summary_lora], references=[ref_summary], use_stemmer=True)\n",
    "print(\"\\nResumen generado (LoRA):\\n\", summary_lora)\n",
    "print(\"\\nROUGE (LoRA):\", {k: round(v * 100, 2) for k, v in results_lora.items()})\n",
    "\n",
    "df_rouge = pd.DataFrame([results_zero, results_full, results_lora], index=[\"Zero-shot\", \"Full Fine-tuning\", \"LoRA\"])\n",
    "\n",
    "df_rouge = df_rouge.round(2)\n",
    "print(df_rouge)"
   ]
  },
  {
   "cell_type": "code",
   "execution_count": 15,
   "id": "831d8a6b",
   "metadata": {},
   "outputs": [
    {
     "name": "stdout",
     "output_type": "stream",
     "text": [
      "\n",
      "Guardando modelos...\n"
     ]
    },
    {
     "name": "stderr",
     "output_type": "stream",
     "text": [
      "/Users/fdiazja/trial_reqs_env/lib/python3.10/site-packages/huggingface_hub/file_download.py:943: FutureWarning: `resume_download` is deprecated and will be removed in version 1.0.0. Downloads always resume when possible. If you want to force a new download, use `force_download=True`.\n",
      "  warnings.warn(\n"
     ]
    },
    {
     "name": "stdout",
     "output_type": "stream",
     "text": [
      "Modelos guardados en './model_full_ft', './model_lora_ft', y './tokenizer_ft'\n"
     ]
    }
   ],
   "source": [
    "# Guardamos los modelos para usarlos en otro momento\n",
    "\n",
    "print(\"\\nGuardando modelos...\")\n",
    "\n",
    "model_full.save_pretrained(\"./model_full_ft\")\n",
    "model_lora.save_pretrained(\"./model_lora_ft\")\n",
    "tokenizer.save_pretrained(\"./tokenizer_ft\")\n",
    "\n",
    "print(\"Modelos guardados en './model_full_ft', './model_lora_ft', y './tokenizer_ft'\")"
   ]
  },
  {
   "cell_type": "code",
   "execution_count": null,
   "id": "633bdc60",
   "metadata": {},
   "outputs": [],
   "source": []
  }
 ],
 "metadata": {
  "kernelspec": {
   "display_name": "trial_reqs_env",
   "language": "python",
   "name": "python3"
  },
  "language_info": {
   "codemirror_mode": {
    "name": "ipython",
    "version": 3
   },
   "file_extension": ".py",
   "mimetype": "text/x-python",
   "name": "python",
   "nbconvert_exporter": "python",
   "pygments_lexer": "ipython3",
   "version": "3.10.13"
  }
 },
 "nbformat": 4,
 "nbformat_minor": 5
}
