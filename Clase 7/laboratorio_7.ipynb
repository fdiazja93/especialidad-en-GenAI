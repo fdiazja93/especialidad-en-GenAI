{
 "cells": [
  {
   "cell_type": "markdown",
   "id": "52eb734b",
   "metadata": {},
   "source": [
    "### Clase 7: Laboratorio"
   ]
  },
  {
   "cell_type": "markdown",
   "id": "2dc6b66a",
   "metadata": {},
   "source": []
  }
 ],
 "metadata": {
  "language_info": {
   "name": "python"
  }
 },
 "nbformat": 4,
 "nbformat_minor": 5
}
