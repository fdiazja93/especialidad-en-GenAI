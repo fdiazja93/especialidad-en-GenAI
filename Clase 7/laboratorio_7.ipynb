{
 "cells": [
  {
   "cell_type": "markdown",
   "id": "52eb734b",
   "metadata": {},
   "source": [
    "### 1. Laboratorio clase 7: Introducción y contexto"
   ]
  },
  {
   "cell_type": "markdown",
   "id": "f583bee2",
   "metadata": {},
   "source": [
    "\n",
    "En este laboratorio exploraremos la técnica de ajuste de parámetros conocida como **LoRA (Low-Rank Adaptation)**, que permite adaptar modelos grandes sin necesidad de actualizar todos sus parámetros. La idea central de LoRA es congelar los pesos originales del modelo y entrenar únicamente un conjunto de capas adicionales que modifican el comportamiento del modelo de manera eficiente y controlada.\n",
    "\n",
    "Este laboratorio tiene los siguientes objetivos:\n",
    "\n",
    "- Comprender los fundamentos matemáticos y computacionales de LoRA.\n",
    "- Implementar manualmente una versión simplificada de LoRA sobre una capa lineal congelada.\n",
    "- Visualizar la pérdida de entrenamiento y las matrices de pesos para entender el efecto de la adaptación.\n",
    "- Aplicar LoRA en un modelo preentrenado real (`flan-t5-small`) para una tarea de resumen automático.\n",
    "- Comparar el rendimiento de LoRA contra el ajuste completo del modelo en términos de calidad del resumen generado."
   ]
  },
  {
   "cell_type": "markdown",
   "id": "6de1e204",
   "metadata": {},
   "source": [
    "### 2. LoRA desde hecha en casa"
   ]
  },
  {
   "cell_type": "markdown",
   "id": "b42244b8",
   "metadata": {},
   "source": [
    "En esta sección construiremos una versión simplificada de LoRA desde cero, utilizando PyTorch. Simularemos un escenario en el que tenemos una **capa lineal preentrenada** cuyos pesos están congelados (es decir, no se pueden modificar).\n",
    "\n",
    "Para adaptar esta capa a un nuevo conjunto de datos, introduciremos un módulo adicional que aprende una **matriz de actualización de bajo rango** usando dos capas lineales (A y B). Este módulo se entrena mientras la capa original permanece intacta.\n",
    "\n",
    "Esta implementación nos permitirá entender:\n",
    "- Cómo se construye la arquitectura de LoRA manualmente.\n",
    "- Cómo se entrena solo la parte adaptable del modelo.\n",
    "- Qué papel juegan los hiperparámetros `r` (rango) y `alpha` (escalamiento)."
   ]
  },
  {
   "cell_type": "code",
   "execution_count": 1,
   "id": "46edee89",
   "metadata": {},
   "outputs": [],
   "source": [
    "# Importamos librerías necesarias\n",
    "\n",
    "import torch\n",
    "import torch.nn as nn\n",
    "import torch.nn.functional as F\n",
    "import matplotlib.pyplot as plt\n",
    "import math"
   ]
  },
  {
   "cell_type": "code",
   "execution_count": 2,
   "id": "45801a5d",
   "metadata": {},
   "outputs": [],
   "source": [
    "# Simulamos datos de entrenamiento y definimos clases para llevar a cabo el fine-tuning\n",
    "\n",
    "x = torch.randn(64, 64) \n",
    "target = torch.randn(64, 32) \n",
    "\n",
    "class FrozenLinear(nn.Module):\n",
    "    \"\"\"\n",
    "    Capa lineal con pesos y bias congelados (no entrenables).\n",
    "\n",
    "    Args:\n",
    "        in_features (int): Número de características de entrada.\n",
    "        out_features (int): Número de características de salida.\n",
    "    \"\"\"\n",
    "    def __init__(self, in_features, out_features):\n",
    "        \"\"\"\n",
    "        Inicializa la capa FrozenLinear con pesos aleatorios y bias en cero.\n",
    "\n",
    "        Args:\n",
    "            in_features (int): Número de características de entrada.\n",
    "            out_features (int): Número de características de salida.\n",
    "        \"\"\"\n",
    "        super().__init__()\n",
    "        self.weight = nn.Parameter(torch.randn(out_features, in_features))\n",
    "        self.bias = nn.Parameter(torch.zeros(out_features))\n",
    "        self.weight.requires_grad = False\n",
    "        self.bias.requires_grad = False\n",
    "\n",
    "    def forward(self, x):\n",
    "        \"\"\"\n",
    "        Realiza la pasada hacia adelante usando los pesos y bias congelados.\n",
    "\n",
    "        Args:\n",
    "            x (torch.Tensor): Tensor de entrada.\n",
    "\n",
    "        Returns:\n",
    "            torch.Tensor: Salida de la capa lineal.\n",
    "        \"\"\"\n",
    "        return F.linear(x, self.weight, self.bias)\n",
    "\n",
    "class LoRALinear(nn.Module):\n",
    "    \"\"\"\n",
    "    Capa lineal con adaptación LoRA sobre una capa congelada.\n",
    "\n",
    "    Args:\n",
    "        frozen_layer (FrozenLinear): Capa lineal congelada.\n",
    "        r (int): Rango de la descomposición de LoRA.\n",
    "        alpha (int): Escalado de LoRA.\n",
    "    \"\"\"\n",
    "    def __init__(self, frozen_layer, r=4, alpha=8):\n",
    "        \"\"\"\n",
    "        Inicializa la capa LoRALinear con matrices A y B entrenables.\n",
    "\n",
    "        Args:\n",
    "            frozen_layer (FrozenLinear): Capa lineal congelada.\n",
    "            r (int): Rango de la descomposición de LoRA.\n",
    "            alpha (int): Escalado de LoRA.\n",
    "        \"\"\"\n",
    "        super().__init__()\n",
    "        self.frozen = frozen_layer\n",
    "        self.r = r\n",
    "        self.alpha = alpha\n",
    "        self.scaling = alpha / r\n",
    "        in_features = frozen_layer.weight.shape[1]\n",
    "        out_features = frozen_layer.weight.shape[0]\n",
    "\n",
    "        self.A = nn.Linear(in_features, r, bias=False)\n",
    "        self.B = nn.Linear(r, out_features, bias=False)\n",
    "\n",
    "        nn.init.kaiming_uniform_(self.A.weight, a=math.sqrt(5))\n",
    "        nn.init.zeros_(self.B.weight)\n",
    "\n",
    "    def forward(self, x):\n",
    "        \"\"\"\n",
    "        Realiza la pasada hacia adelante sumando la salida congelada y la adaptación LoRA.\n",
    "\n",
    "        Args:\n",
    "            x (torch.Tensor): Tensor de entrada.\n",
    "\n",
    "        Returns:\n",
    "            torch.Tensor: Salida de la capa LoRA.\n",
    "        \"\"\"\n",
    "        return self.frozen(x) + self.scaling * self.B(self.A(x))"
   ]
  },
  {
   "cell_type": "code",
   "execution_count": 3,
   "id": "d1cee08a",
   "metadata": {},
   "outputs": [],
   "source": [
    "# Definimos capas congeladas y LoRA, optimizador y hacemos fine-tuning\n",
    "\n",
    "frozen_layer = FrozenLinear(64, 32)\n",
    "lora_layer = LoRALinear(frozen_layer)\n",
    "optimizer = torch.optim.Adam(lora_layer.parameters(), lr=1e-2)\n",
    "\n",
    "losses = []\n",
    "for epoch in range(100):\n",
    "    optimizer.zero_grad()\n",
    "    output = lora_layer(x)\n",
    "    loss = F.mse_loss(output, target)\n",
    "    loss.backward()\n",
    "    optimizer.step()\n",
    "    losses.append(loss.item())"
   ]
  },
  {
   "cell_type": "code",
   "execution_count": 4,
   "id": "ab67dcc4",
   "metadata": {},
   "outputs": [
    {
     "data": {
      "image/png": "[encoded data removed]",
      "text/plain": [
       "<Figure size 640x480 with 1 Axes>"
      ]
     },
     "metadata": {},
     "output_type": "display_data"
    }
   ],
   "source": [
    "# Visualizamos la pérdida durante el fine-tuning\n",
    "\n",
    "plt.plot(losses)\n",
    "plt.title(\"Training Loss - LoRA vs Frozen Linear\")\n",
    "plt.xlabel(\"Epoch\")\n",
    "plt.ylabel(\"MSE Loss\")\n",
    "plt.grid(True)\n",
    "plt.show()"
   ]
  },
  {
   "cell_type": "code",
   "execution_count": 5,
   "id": "89116892",
   "metadata": {},
   "outputs": [
    {
     "data": {
      "image/png": "[encoded data removed]",
      "text/plain": [
       "<Figure size 1500x400 with 6 Axes>"
      ]
     },
     "metadata": {},
     "output_type": "display_data"
    }
   ],
   "source": [
    "# Visualización de pesos antes y después del fine-tuning\n",
    "\n",
    "with torch.no_grad():\n",
    "    A = lora_layer.A.weight  \n",
    "    B = lora_layer.B.weight  \n",
    "    delta_W = (A.T @ B.T).T  \n",
    "\n",
    "    W_frozen = frozen_layer.weight.detach()\n",
    "    W_effective = W_frozen + delta_W\n",
    "\n",
    "plt.figure(figsize=(15, 4))\n",
    "\n",
    "plt.subplot(1, 3, 1)\n",
    "plt.imshow(W_frozen.numpy(), aspect='auto', cmap='Greens')\n",
    "plt.title(\"Matriz de pesos originales (W)\")\n",
    "plt.colorbar()\n",
    "\n",
    "plt.subplot(1, 3, 2)\n",
    "plt.imshow(delta_W.numpy(), aspect='auto', cmap='coolwarm')\n",
    "plt.title(\"Perturbación de LoRA (∆W = A @ B)\")\n",
    "plt.colorbar()\n",
    "\n",
    "plt.subplot(1, 3, 3)\n",
    "plt.imshow(W_effective.numpy(), aspect='auto', cmap='cividis')\n",
    "plt.title(\"matriz de pesos efectivos (W + ∆W)\")\n",
    "plt.colorbar()\n",
    "\n",
    "plt.tight_layout()\n",
    "plt.show()\n",
    "\n"
   ]
  },
  {
   "cell_type": "markdown",
   "id": "f1d8a696",
   "metadata": {},
   "source": [
    "### 3. Generación de resúmenes: Modelo pre-entrenado vs modelos con fine-tuning"
   ]
  },
  {
   "cell_type": "markdown",
   "id": "ab454d8c",
   "metadata": {},
   "source": [
    "Ahora vamos a algo más realista. Vamos a utilizar un modelo preentrenado: **`google/flan-t5-small`**, diseñado para tareas de generación de texto.\n",
    "\n",
    "En esta sección:\n",
    "- Cargaremos y preprocesaremos el conjunto de datos `XSum` para tareas de resumen automático.\n",
    "- Evaluaremos la capacidad del modelo original (zero-shot).\n",
    "- Aplicaremos **LoRA** sobre el modelo T5 utilizando la librería `peft` de Hugging Face.\n",
    "- Entrenaremos solo los adaptadores LoRA, manteniendo el resto del modelo congelado.\n",
    "\n",
    "Esta parte es esencial para ver cómo se aplica LoRA en la práctica con un modelo grande y un conjunto de datos real. Además, compararemos el rendimiento del modelo pre-entrenado con diferentes fine-tunings."
   ]
  },
  {
   "cell_type": "code",
   "execution_count": 6,
   "id": "09d94e08",
   "metadata": {},
   "outputs": [
    {
     "name": "stderr",
     "output_type": "stream",
     "text": [
      "W0521 12:08:58.516000 4631 torch/distributed/elastic/multiprocessing/redirects.py:29] NOTE: Redirects are currently not supported in Windows or MacOs.\n"
     ]
    }
   ],
   "source": [
    "# Importamos librerías necesarias\n",
    "\n",
    "from datasets import load_dataset\n",
    "from transformers import AutoTokenizer, T5ForConditionalGeneration\n",
    "from transformers import Seq2SeqTrainer, Seq2SeqTrainingArguments, DataCollatorForSeq2Seq\n",
    "import evaluate\n",
    "import numpy as np\n",
    "from peft import LoraConfig, get_peft_model, TaskType\n",
    "import pandas as pd"
   ]
  },
  {
   "cell_type": "code",
   "execution_count": 7,
   "id": "62fa90b8",
   "metadata": {},
   "outputs": [
    {
     "name": "stderr",
     "output_type": "stream",
     "text": [
      "/Users/fdiazja/nlp_env/lib/python3.10/site-packages/huggingface_hub/file_download.py:943: FutureWarning: `resume_download` is deprecated and will be removed in version 1.0.0. Downloads always resume when possible. If you want to force a new download, use `force_download=True`.\n",
      "  warnings.warn(\n",
      "/Users/fdiazja/nlp_env/lib/python3.10/site-packages/datasets/load.py:1461: FutureWarning: The repository for xsum contains custom code which must be executed to correctly load the dataset. You can inspect the repository content at https://hf.co/datasets/xsum\n",
      "You can avoid this message in future by passing the argument `trust_remote_code=True`.\n",
      "Passing `trust_remote_code=True` will be mandatory to load this dataset from the next major release of `datasets`.\n",
      "  warnings.warn(\n"
     ]
    },
    {
     "data": {
      "application/vnd.jupyter.widget-view+json": {
       "model_id": "035bb6a4f5ed4785b46ff46553efa600",
       "version_major": 2,
       "version_minor": 0
      },
      "text/plain": [
       "Map:   0%|          | 0/270 [00:00<?, ? examples/s]"
      ]
     },
     "metadata": {},
     "output_type": "display_data"
    },
    {
     "name": "stderr",
     "output_type": "stream",
     "text": [
      "/Users/fdiazja/nlp_env/lib/python3.10/site-packages/transformers/tokenization_utils_base.py:3892: UserWarning: `as_target_tokenizer` is deprecated and will be removed in v5 of Transformers. You can tokenize your labels by using the argument `text_target` of the regular `__call__` method (either in the same call as your input texts if you use the same keyword arguments, or in a separate call.\n",
      "  warnings.warn(\n"
     ]
    },
    {
     "data": {
      "application/vnd.jupyter.widget-view+json": {
       "model_id": "ba9e0d863b874568bebf4b9783150f2b",
       "version_major": 2,
       "version_minor": 0
      },
      "text/plain": [
       "Map:   0%|          | 0/30 [00:00<?, ? examples/s]"
      ]
     },
     "metadata": {},
     "output_type": "display_data"
    }
   ],
   "source": [
    "# Importamos modelo pre-entrenado, tokenizador, dataset y procesamos los datos\n",
    "\n",
    "model_id = \"google/flan-t5-small\"\n",
    "tokenizer = AutoTokenizer.from_pretrained(model_id)\n",
    "model_full = T5ForConditionalGeneration.from_pretrained(model_id)\n",
    "model_full = model_full.to(\"cpu\")\n",
    "\n",
    "dataset = load_dataset(\"xsum\")\n",
    "dataset = dataset[\"train\"].select(range(300)).train_test_split(test_size=0.1)\n",
    "\n",
    "max_input_length = 128\n",
    "max_target_length = 32\n",
    "\n",
    "def preprocess(example):\n",
    "    \"\"\"\n",
    "    Preprocesa un ejemplo del dataset para el modelo T5, agregando el prompt y tokenizando.\n",
    "\n",
    "    Args:\n",
    "        example (dict): Diccionario con las claves 'document' y 'summary'.\n",
    "\n",
    "    Returns:\n",
    "        dict: Diccionario con los input_ids y labels tokenizados.\n",
    "    \"\"\"\n",
    "    inputs = [\"summarize: \" + doc for doc in example[\"document\"]]\n",
    "    model_inputs = tokenizer(inputs, max_length=max_input_length, padding=\"max_length\", truncation=True)\n",
    "    with tokenizer.as_target_tokenizer():\n",
    "        labels = tokenizer(example[\"summary\"], max_length=max_target_length, padding=\"max_length\", truncation=True)\n",
    "    model_inputs[\"labels\"] = labels[\"input_ids\"]\n",
    "    return model_inputs\n",
    "\n",
    "tokenized_dataset = dataset.map(preprocess, batched=True, remove_columns=dataset[\"train\"].column_names)"
   ]
  },
  {
   "cell_type": "code",
   "execution_count": 8,
   "id": "a256ba4b",
   "metadata": {},
   "outputs": [
    {
     "name": "stdout",
     "output_type": "stream",
     "text": [
      "\n",
      "Texto original:\n",
      " Mr Adams, who joined the company from Singapore-based Tiger Airways in 2013, said that for personal reasons it was the right time to go.\n",
      "He will remain in the post until April. Loganair has started the process of finding his successor.\n",
      "Chairman David Harrison said: \"Stewart has been an extremely hardworking chief executive and he has provided strong leadership.\"\n",
      "The Scottish airline flies under Flybe livery and operates 31 routes across the Highlands and Islands as well as other parts of the UK.\n"
     ]
    }
   ],
   "source": [
    "# Generamos texto completo y lo tokenizamos\n",
    "\n",
    "sample = dataset[\"test\"][0][\"document\"]\n",
    "ref_summary = dataset[\"test\"][0][\"summary\"]\n",
    "input_ids = tokenizer(\"summarize: \" + sample, return_tensors=\"pt\", truncation=True, max_length=512).input_ids.to(\"cpu\")\n",
    "output_full = model_full.generate(input_ids, max_length=128)\n",
    "summary_full = tokenizer.decode(output_full[0], skip_special_tokens=True)\n",
    "\n",
    "print(\"\\nTexto original:\\n\", sample[:565])"
   ]
  },
  {
   "cell_type": "code",
   "execution_count": 9,
   "id": "0ee6ecb7",
   "metadata": {},
   "outputs": [
    {
     "name": "stdout",
     "output_type": "stream",
     "text": [
      "\n",
      "Resumen generado (Zero-shot, modelo preentrenado sin fine-tuning):\n",
      " The Scottish airline Loganair has announced it will retire as its chief executive.\n"
     ]
    }
   ],
   "source": [
    "# Generamos resumen usando el modelo original\n",
    "model_zero = T5ForConditionalGeneration.from_pretrained(model_id).to(\"cpu\")\n",
    "input_ids_zero = tokenizer(\"summarize: \" + sample, return_tensors=\"pt\").input_ids.to(\"cpu\")\n",
    "output_zero = model_zero.generate(input_ids_zero, max_length=64)\n",
    "summary_zero = tokenizer.decode(output_zero[0], skip_special_tokens=True)\n",
    "\n",
    "print(\"\\nResumen generado (Zero-shot, modelo preentrenado sin fine-tuning):\\n\", summary_zero)"
   ]
  },
  {
   "cell_type": "code",
   "execution_count": 10,
   "id": "734f1ac3",
   "metadata": {},
   "outputs": [
    {
     "data": {
      "application/vnd.jupyter.widget-view+json": {
       "model_id": "e5412c8d15ef488bb205aa097b65bdf6",
       "version_major": 2,
       "version_minor": 0
      },
      "text/plain": [
       "  0%|          | 0/405 [00:00<?, ?it/s]"
      ]
     },
     "metadata": {},
     "output_type": "display_data"
    },
    {
     "name": "stderr",
     "output_type": "stream",
     "text": [
      "/Users/fdiazja/nlp_env/lib/python3.10/site-packages/torch/utils/data/dataloader.py:683: UserWarning: 'pin_memory' argument is set as true but not supported on MPS now, then device pinned memory won't be used.\n",
      "  warnings.warn(warn_msg)\n"
     ]
    },
    {
     "name": "stdout",
     "output_type": "stream",
     "text": [
      "{'loss': 8.8477, 'grad_norm': 28.070261001586914, 'learning_rate': 4.876543209876544e-05, 'epoch': 0.07}\n",
      "{'loss': 7.657, 'grad_norm': 22.951858520507812, 'learning_rate': 4.7530864197530866e-05, 'epoch': 0.15}\n",
      "{'loss': 7.3353, 'grad_norm': 47.24903869628906, 'learning_rate': 4.62962962962963e-05, 'epoch': 0.22}\n",
      "{'loss': 6.3915, 'grad_norm': 18.629932403564453, 'learning_rate': 4.506172839506173e-05, 'epoch': 0.3}\n",
      "{'loss': 8.6891, 'grad_norm': 16.77752685546875, 'learning_rate': 4.3827160493827164e-05, 'epoch': 0.37}\n",
      "{'loss': 7.076, 'grad_norm': 15.331263542175293, 'learning_rate': 4.259259259259259e-05, 'epoch': 0.44}\n",
      "{'loss': 6.6927, 'grad_norm': 19.86610221862793, 'learning_rate': 4.135802469135803e-05, 'epoch': 0.52}\n",
      "{'loss': 5.3032, 'grad_norm': 40.016082763671875, 'learning_rate': 4.012345679012346e-05, 'epoch': 0.59}\n",
      "{'loss': 5.0646, 'grad_norm': 7.946784496307373, 'learning_rate': 3.888888888888889e-05, 'epoch': 0.67}\n",
      "{'loss': 4.5872, 'grad_norm': 6.086930751800537, 'learning_rate': 3.7654320987654326e-05, 'epoch': 0.74}\n",
      "{'loss': 5.4722, 'grad_norm': 35.09996032714844, 'learning_rate': 3.6419753086419754e-05, 'epoch': 0.81}\n",
      "{'loss': 5.0831, 'grad_norm': 6.29042387008667, 'learning_rate': 3.518518518518519e-05, 'epoch': 0.89}\n",
      "{'loss': 3.8326, 'grad_norm': 24.466184616088867, 'learning_rate': 3.395061728395062e-05, 'epoch': 0.96}\n"
     ]
    },
    {
     "data": {
      "application/vnd.jupyter.widget-view+json": {
       "model_id": "e0fc4af992a74bfd97347abf2b6e0f7e",
       "version_major": 2,
       "version_minor": 0
      },
      "text/plain": [
       "  0%|          | 0/15 [00:00<?, ?it/s]"
      ]
     },
     "metadata": {},
     "output_type": "display_data"
    },
    {
     "name": "stdout",
     "output_type": "stream",
     "text": [
      "{'eval_loss': 3.6546478271484375, 'eval_runtime': 0.4051, 'eval_samples_per_second': 74.061, 'eval_steps_per_second': 37.031, 'epoch': 1.0}\n",
      "{'loss': 4.7105, 'grad_norm': 13.972522735595703, 'learning_rate': 3.271604938271605e-05, 'epoch': 1.04}\n",
      "{'loss': 3.9438, 'grad_norm': 5.860935211181641, 'learning_rate': 3.148148148148148e-05, 'epoch': 1.11}\n",
      "{'loss': 4.1891, 'grad_norm': 86.62813568115234, 'learning_rate': 3.0246913580246916e-05, 'epoch': 1.19}\n",
      "{'loss': 3.5866, 'grad_norm': 5.694920539855957, 'learning_rate': 2.9012345679012347e-05, 'epoch': 1.26}\n",
      "{'loss': 4.3479, 'grad_norm': 7.670880317687988, 'learning_rate': 2.777777777777778e-05, 'epoch': 1.33}\n",
      "{'loss': 3.7127, 'grad_norm': 10.973804473876953, 'learning_rate': 2.654320987654321e-05, 'epoch': 1.41}\n",
      "{'loss': 3.7051, 'grad_norm': 9.207514762878418, 'learning_rate': 2.5308641975308646e-05, 'epoch': 1.48}\n",
      "{'loss': 3.9288, 'grad_norm': 6.467984676361084, 'learning_rate': 2.4074074074074074e-05, 'epoch': 1.56}\n",
      "{'loss': 3.3607, 'grad_norm': 5.366425037384033, 'learning_rate': 2.2839506172839506e-05, 'epoch': 1.63}\n",
      "{'loss': 3.5196, 'grad_norm': 9.321685791015625, 'learning_rate': 2.1604938271604937e-05, 'epoch': 1.7}\n",
      "{'loss': 3.7381, 'grad_norm': 15.632850646972656, 'learning_rate': 2.037037037037037e-05, 'epoch': 1.78}\n",
      "{'loss': 3.5596, 'grad_norm': 7.862092971801758, 'learning_rate': 1.91358024691358e-05, 'epoch': 1.85}\n",
      "{'loss': 3.2341, 'grad_norm': 7.472061634063721, 'learning_rate': 1.7901234567901236e-05, 'epoch': 1.93}\n",
      "{'loss': 3.5765, 'grad_norm': 6.382185459136963, 'learning_rate': 1.6666666666666667e-05, 'epoch': 2.0}\n"
     ]
    },
    {
     "data": {
      "application/vnd.jupyter.widget-view+json": {
       "model_id": "ad894ebe3cb347279f983ab029769020",
       "version_major": 2,
       "version_minor": 0
      },
      "text/plain": [
       "  0%|          | 0/15 [00:00<?, ?it/s]"
      ]
     },
     "metadata": {},
     "output_type": "display_data"
    },
    {
     "name": "stdout",
     "output_type": "stream",
     "text": [
      "{'eval_loss': 3.0690536499023438, 'eval_runtime': 0.3764, 'eval_samples_per_second': 79.698, 'eval_steps_per_second': 39.849, 'epoch': 2.0}\n",
      "{'loss': 3.4152, 'grad_norm': 45.79737854003906, 'learning_rate': 1.54320987654321e-05, 'epoch': 2.07}\n",
      "{'loss': 3.7004, 'grad_norm': 6.535680294036865, 'learning_rate': 1.419753086419753e-05, 'epoch': 2.15}\n",
      "{'loss': 3.5628, 'grad_norm': 7.667524337768555, 'learning_rate': 1.2962962962962962e-05, 'epoch': 2.22}\n",
      "{'loss': 3.126, 'grad_norm': 12.849250793457031, 'learning_rate': 1.1728395061728396e-05, 'epoch': 2.3}\n",
      "{'loss': 3.404, 'grad_norm': 9.50868034362793, 'learning_rate': 1.0493827160493827e-05, 'epoch': 2.37}\n",
      "{'loss': 3.2463, 'grad_norm': 5.931606769561768, 'learning_rate': 9.259259259259259e-06, 'epoch': 2.44}\n",
      "{'loss': 3.3667, 'grad_norm': 7.892128944396973, 'learning_rate': 8.02469135802469e-06, 'epoch': 2.52}\n",
      "{'loss': 3.2262, 'grad_norm': 16.929574966430664, 'learning_rate': 6.790123456790123e-06, 'epoch': 2.59}\n",
      "{'loss': 3.2868, 'grad_norm': 5.76161003112793, 'learning_rate': 5.555555555555556e-06, 'epoch': 2.67}\n",
      "{'loss': 3.2939, 'grad_norm': 14.600480079650879, 'learning_rate': 4.3209876543209875e-06, 'epoch': 2.74}\n",
      "{'loss': 3.1931, 'grad_norm': 8.102483749389648, 'learning_rate': 3.0864197530864196e-06, 'epoch': 2.81}\n",
      "{'loss': 3.0517, 'grad_norm': 7.136741638183594, 'learning_rate': 1.8518518518518519e-06, 'epoch': 2.89}\n",
      "{'loss': 3.11, 'grad_norm': 6.649137020111084, 'learning_rate': 6.17283950617284e-07, 'epoch': 2.96}\n"
     ]
    },
    {
     "data": {
      "application/vnd.jupyter.widget-view+json": {
       "model_id": "83251405147e4a289ef2223c6e5cd746",
       "version_major": 2,
       "version_minor": 0
      },
      "text/plain": [
       "  0%|          | 0/15 [00:00<?, ?it/s]"
      ]
     },
     "metadata": {},
     "output_type": "display_data"
    },
    {
     "name": "stdout",
     "output_type": "stream",
     "text": [
      "{'eval_loss': 2.8953440189361572, 'eval_runtime': 0.4939, 'eval_samples_per_second': 60.743, 'eval_steps_per_second': 30.371, 'epoch': 3.0}\n",
      "{'train_runtime': 57.9466, 'train_samples_per_second': 13.978, 'train_steps_per_second': 6.989, 'train_loss': 4.438579361527054, 'epoch': 3.0}\n"
     ]
    },
    {
     "data": {
      "text/plain": [
       "TrainOutput(global_step=405, training_loss=4.438579361527054, metrics={'train_runtime': 57.9466, 'train_samples_per_second': 13.978, 'train_steps_per_second': 6.989, 'train_loss': 4.438579361527054, 'epoch': 3.0})"
      ]
     },
     "execution_count": 10,
     "metadata": {},
     "output_type": "execute_result"
    }
   ],
   "source": [
    "# Realizamos fine-tuning cmpleto del modelo pre-entrenado con el fin de mejorar la generación de resúmenes\n",
    "\n",
    "args_full = Seq2SeqTrainingArguments(\n",
    "    output_dir=\"./flan_full\",\n",
    "    per_device_train_batch_size=2,\n",
    "    per_device_eval_batch_size=2,\n",
    "    num_train_epochs=3,\n",
    "    logging_steps=10,\n",
    "    evaluation_strategy=\"epoch\",\n",
    "    save_strategy=\"no\",\n",
    "    report_to=\"none\",\n",
    "    logging_dir=None\n",
    ")\n",
    "\n",
    "data_collator = DataCollatorForSeq2Seq(tokenizer, model=model_full)\n",
    "\n",
    "trainer_full = Seq2SeqTrainer(\n",
    "    model=model_full,\n",
    "    args=args_full,\n",
    "    train_dataset=tokenized_dataset[\"train\"],\n",
    "    eval_dataset=tokenized_dataset[\"test\"],\n",
    "    tokenizer=tokenizer,\n",
    "    data_collator=data_collator,\n",
    ")\n",
    "\n",
    "trainer_full.train()"
   ]
  },
  {
   "cell_type": "code",
   "execution_count": 11,
   "id": "6813bc8b",
   "metadata": {},
   "outputs": [
    {
     "name": "stdout",
     "output_type": "stream",
     "text": [
      "\n",
      "Texto original:\n",
      " Mr Adams, who joined the company from Singapore-based Tiger Airways in 2013, said that for personal reasons it was the right time to go.\n",
      "He will remain in the post until April. Loganair has started the process of finding his successor.\n",
      "Chairman David Harrison said: \"Stewart has been an extremely hardworking chief executive and he has provided strong leadership.\"\n",
      "The Scottish airline flies under Flybe livery and operates 31 routes across the Highlands and Islands as well as other parts of the UK.\n",
      "\n",
      "Resumen generado (Fine-tuning completo):\n",
      " The Scottish airline has announced it will retire as its chief executive after announcing it has appointed Steve Adams as its new chief executive.\n"
     ]
    }
   ],
   "source": [
    "# Generamos un resumen con el modelo completamente ajustado\n",
    "\n",
    "model_full = model_full.to(\"cpu\")\n",
    "output_full = model_full.generate(input_ids, max_length=64)\n",
    "summary_full = tokenizer.decode(output_full[0], skip_special_tokens=True)\n",
    "\n",
    "print(\"\\nTexto original:\\n\", sample[:500])\n",
    "print(\"\\nResumen generado (Fine-tuning completo):\\n\", summary_full)"
   ]
  },
  {
   "cell_type": "code",
   "execution_count": 12,
   "id": "81c5da41",
   "metadata": {},
   "outputs": [
    {
     "name": "stdout",
     "output_type": "stream",
     "text": [
      "trainable params: 344,064 || all params: 77,305,216 || trainable%: 0.445072166928555\n"
     ]
    },
    {
     "data": {
      "application/vnd.jupyter.widget-view+json": {
       "model_id": "95064bed1fb943a1a9cce1bcab10e2c1",
       "version_major": 2,
       "version_minor": 0
      },
      "text/plain": [
       "  0%|          | 0/405 [00:00<?, ?it/s]"
      ]
     },
     "metadata": {},
     "output_type": "display_data"
    },
    {
     "name": "stdout",
     "output_type": "stream",
     "text": [
      "{'loss': 9.3314, 'grad_norm': 2.0836548805236816, 'learning_rate': 4.876543209876544e-05, 'epoch': 0.07}\n",
      "{'loss': 8.732, 'grad_norm': 1.2508162260055542, 'learning_rate': 4.7530864197530866e-05, 'epoch': 0.15}\n",
      "{'loss': 8.6932, 'grad_norm': 2.1102235317230225, 'learning_rate': 4.62962962962963e-05, 'epoch': 0.22}\n",
      "{'loss': 7.6623, 'grad_norm': 2.036989450454712, 'learning_rate': 4.506172839506173e-05, 'epoch': 0.3}\n",
      "{'loss': 11.3193, 'grad_norm': 1.5876004695892334, 'learning_rate': 4.3827160493827164e-05, 'epoch': 0.37}\n",
      "{'loss': 9.4074, 'grad_norm': 1.895277738571167, 'learning_rate': 4.259259259259259e-05, 'epoch': 0.44}\n",
      "{'loss': 9.5317, 'grad_norm': 2.5358781814575195, 'learning_rate': 4.135802469135803e-05, 'epoch': 0.52}\n",
      "{'loss': 7.3952, 'grad_norm': 1.9495949745178223, 'learning_rate': 4.012345679012346e-05, 'epoch': 0.59}\n",
      "{'loss': 7.5069, 'grad_norm': 0.952531635761261, 'learning_rate': 3.888888888888889e-05, 'epoch': 0.67}\n",
      "{'loss': 6.5422, 'grad_norm': 0.60251384973526, 'learning_rate': 3.7654320987654326e-05, 'epoch': 0.74}\n",
      "{'loss': 9.0527, 'grad_norm': 3.0199954509735107, 'learning_rate': 3.6419753086419754e-05, 'epoch': 0.81}\n",
      "{'loss': 8.7157, 'grad_norm': 0.9891695976257324, 'learning_rate': 3.518518518518519e-05, 'epoch': 0.89}\n",
      "{'loss': 7.3126, 'grad_norm': 6.24506139755249, 'learning_rate': 3.395061728395062e-05, 'epoch': 0.96}\n"
     ]
    },
    {
     "data": {
      "application/vnd.jupyter.widget-view+json": {
       "model_id": "90f9479ca89e41a580ac19f104711471",
       "version_major": 2,
       "version_minor": 0
      },
      "text/plain": [
       "  0%|          | 0/15 [00:00<?, ?it/s]"
      ]
     },
     "metadata": {},
     "output_type": "display_data"
    },
    {
     "name": "stdout",
     "output_type": "stream",
     "text": [
      "{'eval_loss': 8.405224800109863, 'eval_runtime': 0.525, 'eval_samples_per_second': 57.148, 'eval_steps_per_second': 28.574, 'epoch': 1.0}\n",
      "{'loss': 10.2159, 'grad_norm': 2.1725823879241943, 'learning_rate': 3.271604938271605e-05, 'epoch': 1.04}\n",
      "{'loss': 7.3194, 'grad_norm': 0.6374422311782837, 'learning_rate': 3.148148148148148e-05, 'epoch': 1.11}\n",
      "{'loss': 9.2069, 'grad_norm': 6.433767795562744, 'learning_rate': 3.0246913580246916e-05, 'epoch': 1.19}\n",
      "{'loss': 6.4466, 'grad_norm': 0.5501821041107178, 'learning_rate': 2.9012345679012347e-05, 'epoch': 1.26}\n",
      "{'loss': 10.4914, 'grad_norm': 1.0068401098251343, 'learning_rate': 2.777777777777778e-05, 'epoch': 1.33}\n",
      "{'loss': 8.7762, 'grad_norm': 3.068145275115967, 'learning_rate': 2.654320987654321e-05, 'epoch': 1.41}\n",
      "{'loss': 8.9769, 'grad_norm': 2.0853404998779297, 'learning_rate': 2.5308641975308646e-05, 'epoch': 1.48}\n",
      "{'loss': 9.7007, 'grad_norm': 1.7267913818359375, 'learning_rate': 2.4074074074074074e-05, 'epoch': 1.56}\n",
      "{'loss': 5.2491, 'grad_norm': 0.5144666433334351, 'learning_rate': 2.2839506172839506e-05, 'epoch': 1.63}\n",
      "{'loss': 7.0164, 'grad_norm': 2.417814254760742, 'learning_rate': 2.1604938271604937e-05, 'epoch': 1.7}\n",
      "{'loss': 9.0374, 'grad_norm': 3.9313137531280518, 'learning_rate': 2.037037037037037e-05, 'epoch': 1.78}\n",
      "{'loss': 6.9626, 'grad_norm': 2.641887664794922, 'learning_rate': 1.91358024691358e-05, 'epoch': 1.85}\n",
      "{'loss': 7.2856, 'grad_norm': 0.735650360584259, 'learning_rate': 1.7901234567901236e-05, 'epoch': 1.93}\n",
      "{'loss': 8.6639, 'grad_norm': 0.5085029602050781, 'learning_rate': 1.6666666666666667e-05, 'epoch': 2.0}\n"
     ]
    },
    {
     "data": {
      "application/vnd.jupyter.widget-view+json": {
       "model_id": "c8245473ab75462c8263077045876cfc",
       "version_major": 2,
       "version_minor": 0
      },
      "text/plain": [
       "  0%|          | 0/15 [00:00<?, ?it/s]"
      ]
     },
     "metadata": {},
     "output_type": "display_data"
    },
    {
     "name": "stdout",
     "output_type": "stream",
     "text": [
      "{'eval_loss': 7.926417827606201, 'eval_runtime': 0.4956, 'eval_samples_per_second': 60.536, 'eval_steps_per_second': 30.268, 'epoch': 2.0}\n",
      "{'loss': 7.3097, 'grad_norm': 4.396118640899658, 'learning_rate': 1.54320987654321e-05, 'epoch': 2.07}\n",
      "{'loss': 9.1125, 'grad_norm': 1.5039334297180176, 'learning_rate': 1.419753086419753e-05, 'epoch': 2.15}\n",
      "{'loss': 8.7833, 'grad_norm': 1.2032930850982666, 'learning_rate': 1.2962962962962962e-05, 'epoch': 2.22}\n",
      "{'loss': 5.8958, 'grad_norm': 2.4702649116516113, 'learning_rate': 1.1728395061728396e-05, 'epoch': 2.3}\n",
      "{'loss': 9.0832, 'grad_norm': 2.8659827709198, 'learning_rate': 1.0493827160493827e-05, 'epoch': 2.37}\n",
      "{'loss': 7.535, 'grad_norm': 0.8565492630004883, 'learning_rate': 9.259259259259259e-06, 'epoch': 2.44}\n",
      "{'loss': 8.5025, 'grad_norm': 2.4100394248962402, 'learning_rate': 8.02469135802469e-06, 'epoch': 2.52}\n",
      "{'loss': 8.8484, 'grad_norm': 0.6124688386917114, 'learning_rate': 6.790123456790123e-06, 'epoch': 2.59}\n",
      "{'loss': 8.9672, 'grad_norm': 2.7464051246643066, 'learning_rate': 5.555555555555556e-06, 'epoch': 2.67}\n",
      "{'loss': 8.196, 'grad_norm': 4.426925182342529, 'learning_rate': 4.3209876543209875e-06, 'epoch': 2.74}\n",
      "{'loss': 7.0717, 'grad_norm': 0.9136834740638733, 'learning_rate': 3.0864197530864196e-06, 'epoch': 2.81}\n",
      "{'loss': 7.2993, 'grad_norm': 5.514695167541504, 'learning_rate': 1.8518518518518519e-06, 'epoch': 2.89}\n",
      "{'loss': 6.813, 'grad_norm': 2.3206369876861572, 'learning_rate': 6.17283950617284e-07, 'epoch': 2.96}\n"
     ]
    },
    {
     "data": {
      "application/vnd.jupyter.widget-view+json": {
       "model_id": "2bc9b9714cea42f0ae507f36c52932f5",
       "version_major": 2,
       "version_minor": 0
      },
      "text/plain": [
       "  0%|          | 0/15 [00:00<?, ?it/s]"
      ]
     },
     "metadata": {},
     "output_type": "display_data"
    },
    {
     "name": "stdout",
     "output_type": "stream",
     "text": [
      "{'eval_loss': 7.743256568908691, 'eval_runtime': 0.4973, 'eval_samples_per_second': 60.332, 'eval_steps_per_second': 30.166, 'epoch': 3.0}\n",
      "{'train_runtime': 52.6176, 'train_samples_per_second': 15.394, 'train_steps_per_second': 7.697, 'train_loss': 8.226973149805893, 'epoch': 3.0}\n"
     ]
    }
   ],
   "source": [
    "# Realizamos el fine-tuning del modelo pre-entrenado usando LoRA\n",
    "\n",
    "base_model = T5ForConditionalGeneration.from_pretrained(model_id).to(\"cpu\")\n",
    "lora_config = LoraConfig(\n",
    "    task_type=TaskType.SEQ_2_SEQ_LM,\n",
    "    r=8,\n",
    "    lora_alpha=16,\n",
    "    lora_dropout=0.1,\n",
    "    bias=\"none\"\n",
    ")\n",
    "\n",
    "model_lora = get_peft_model(base_model, lora_config)\n",
    "model_lora.print_trainable_parameters()\n",
    "\n",
    "args_lora = Seq2SeqTrainingArguments(\n",
    "    logging_dir=None,        \n",
    "    output_dir=\"./flan_lora\",\n",
    "    per_device_train_batch_size=2,\n",
    "    per_device_eval_batch_size=2,\n",
    "    num_train_epochs=3,\n",
    "    logging_steps=10,\n",
    "    evaluation_strategy=\"epoch\",\n",
    "    save_strategy=\"no\",\n",
    "    report_to=\"none\",\n",
    ")\n",
    "\n",
    "trainer_lora = Seq2SeqTrainer(\n",
    "    model=model_lora,\n",
    "    args=args_lora,\n",
    "    train_dataset=tokenized_dataset[\"train\"],\n",
    "    eval_dataset=tokenized_dataset[\"test\"],\n",
    "    tokenizer=tokenizer,\n",
    "    data_collator=data_collator\n",
    ")\n",
    "\n",
    "trainer_lora.train()\n",
    "\n",
    "model_lora = model_lora.to(\"cpu\")\n",
    "model_lora.base_model = model_lora.base_model.to(\"cpu\") "
   ]
  },
  {
   "cell_type": "code",
   "execution_count": 13,
   "id": "8c40abaa",
   "metadata": {},
   "outputs": [
    {
     "name": "stdout",
     "output_type": "stream",
     "text": [
      "\n",
      "Resumen generado (LoRA):\n",
      " The Scottish airline Loganair has announced it will retire as its chief executive.\n"
     ]
    }
   ],
   "source": [
    "# Generamos resumen con  LoRA\n",
    "\n",
    "output_lora = model_lora.base_model.generate(input_ids, max_length=64)\n",
    "summary_lora = tokenizer.decode(output_lora[0], skip_special_tokens=True)\n",
    "\n",
    "print(\"\\nResumen generado (LoRA):\\n\", summary_lora)"
   ]
  },
  {
   "cell_type": "code",
   "execution_count": 14,
   "id": "f1d1d733",
   "metadata": {},
   "outputs": [
    {
     "name": "stdout",
     "output_type": "stream",
     "text": [
      "\n",
      "Resumen generado (Zero-shot, modelo preentrenado sin fine-tuning):\n",
      " The Scottish airline Loganair has announced it will retire as its chief executive.\n",
      "\n",
      "ROUGE (Inicial): {'rouge1': 27.27, 'rouge2': 10.0, 'rougeL': 27.27, 'rougeLsum': 27.27}\n",
      "\n",
      "Resumen generado (Fine-tuning completo):\n",
      " The Scottish airline has announced it will retire as its chief executive after announcing it has appointed Steve Adams as its new chief executive.\n",
      "\n",
      "ROUGE (Fine-tuning completo): {'rouge1': 18.18, 'rouge2': 6.45, 'rougeL': 18.18, 'rougeLsum': 18.18}\n",
      "\n",
      "Resumen generado (LoRA):\n",
      " The Scottish airline Loganair has announced it will retire as its chief executive.\n",
      "\n",
      "ROUGE (LoRA): {'rouge1': 27.27, 'rouge2': 10.0, 'rougeL': 27.27, 'rougeLsum': 27.27}\n",
      "                  rouge1  rouge2  rougeL  rougeLsum\n",
      "Zero-shot           0.27    0.10    0.27       0.27\n",
      "Full Fine-tuning    0.18    0.06    0.18       0.18\n",
      "LoRA                0.27    0.10    0.27       0.27\n"
     ]
    }
   ],
   "source": [
    "# Medimos la calidad del resumen generado por el modelo LoRA\n",
    "\n",
    "\n",
    "metric = evaluate.load(\"rouge\")\n",
    "\n",
    "results_zero = metric.compute(predictions=[summary_zero], references=[ref_summary], use_stemmer=True)\n",
    "print(\"\\nResumen generado (Zero-shot, modelo preentrenado sin fine-tuning):\\n\", summary_zero)\n",
    "print(\"\\nROUGE (Inicial):\", {k: round(v * 100, 2) for k, v in results_zero.items()})\n",
    "\n",
    "results_full = metric.compute(predictions=[summary_full], references=[ref_summary], use_stemmer=True)\n",
    "print(\"\\nResumen generado (Fine-tuning completo):\\n\", summary_full)\n",
    "print(\"\\nROUGE (Fine-tuning completo):\", {k: round(v * 100, 2) for k, v in results_full.items()})\n",
    "\n",
    "results_lora = metric.compute(predictions=[summary_lora], references=[ref_summary], use_stemmer=True)\n",
    "print(\"\\nResumen generado (LoRA):\\n\", summary_lora)\n",
    "print(\"\\nROUGE (LoRA):\", {k: round(v * 100, 2) for k, v in results_lora.items()})\n",
    "\n",
    "df_rouge = pd.DataFrame([results_zero, results_full, results_lora], index=[\"Zero-shot\", \"Full Fine-tuning\", \"LoRA\"])\n",
    "\n",
    "df_rouge = df_rouge.round(2)\n",
    "print(df_rouge)"
   ]
  },
  {
   "cell_type": "code",
   "execution_count": null,
   "id": "831d8a6b",
   "metadata": {},
   "outputs": [
    {
     "name": "stdout",
     "output_type": "stream",
     "text": [
      "\n",
      "Guardando modelos...\n",
      "Modelos guardados en './model_full_ft', './model_lora_ft', y './tokenizer_ft'\n"
     ]
    },
    {
     "name": "stderr",
     "output_type": "stream",
     "text": [
      "/Users/fdiazja/nlp_env/lib/python3.10/site-packages/huggingface_hub/file_download.py:943: FutureWarning: `resume_download` is deprecated and will be removed in version 1.0.0. Downloads always resume when possible. If you want to force a new download, use `force_download=True`.\n",
      "  warnings.warn(\n"
     ]
    }
   ],
   "source": [
    "# Guardamos los modelos para usarlos en otro momento\n",
    "\n",
    "print(\"\\nGuardando modelos...\")\n",
    "\n",
    "model_full.save_pretrained(\"./model_full_ft\")\n",
    "model_lora.save_pretrained(\"./model_lora_ft\")\n",
    "tokenizer.save_pretrained(\"./tokenizer_ft\")\n",
    "\n",
    "print(\"Modelos guardados en './model_full_ft', './model_lora_ft', y './tokenizer_ft'\")"
   ]
  }
 ],
 "metadata": {
  "kernelspec": {
   "display_name": "nlp_env",
   "language": "python",
   "name": "python3"
  },
  "language_info": {
   "codemirror_mode": {
    "name": "ipython",
    "version": 3
   },
   "file_extension": ".py",
   "mimetype": "text/x-python",
   "name": "python",
   "nbconvert_exporter": "python",
   "pygments_lexer": "ipython3",
   "version": "3.10.13"
  }
 },
 "nbformat": 4,
 "nbformat_minor": 5
}
