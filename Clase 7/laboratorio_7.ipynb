{
 "cells": [
  {
   "cell_type": "markdown",
   "id": "52eb734b",
   "metadata": {},
   "source": [
    "### 1. Laboratorio clase 7: Introducción y contexto"
   ]
  },
  {
   "cell_type": "markdown",
   "id": "f583bee2",
   "metadata": {},
   "source": [
    "\n",
    "En este laboratorio exploraremos la técnica de ajuste de parámetros conocida como **LoRA (Low-Rank Adaptation)**, que permite adaptar modelos grandes sin necesidad de actualizar todos sus parámetros. La idea central de LoRA es congelar los pesos originales del modelo y entrenar únicamente un conjunto de capas adicionales que modifican el comportamiento del modelo de manera eficiente y controlada.\n",
    "\n",
    "Este laboratorio tiene los siguientes objetivos:\n",
    "\n",
    "- Comprender los fundamentos matemáticos y computacionales de LoRA.\n",
    "- Implementar manualmente una versión simplificada de LoRA sobre una capa lineal congelada.\n",
    "- Visualizar la pérdida de entrenamiento y las matrices de pesos para entender el efecto de la adaptación.\n",
    "- Aplicar LoRA en un modelo preentrenado real (`flan-t5-small`) para una tarea de resumen automático.\n",
    "- Comparar el rendimiento de LoRA contra el ajuste completo del modelo en términos de calidad del resumen generado."
   ]
  },
  {
   "cell_type": "markdown",
   "id": "6de1e204",
   "metadata": {},
   "source": [
    "### 2. LoRA hecha en casa"
   ]
  },
  {
   "cell_type": "markdown",
   "id": "b42244b8",
   "metadata": {},
   "source": [
    "En esta sección construiremos una versión simplificada de LoRA desde cero, utilizando PyTorch. Simularemos un escenario en el que tenemos una **capa lineal preentrenada** cuyos pesos están congelados (es decir, no se pueden modificar).\n",
    "\n",
    "Para adaptar esta capa a un nuevo conjunto de datos, introduciremos un módulo adicional que aprende una **matriz de actualización de bajo rango** usando dos capas lineales (A y B). Este módulo se entrena mientras la capa original permanece intacta.\n",
    "\n",
    "Esta implementación nos permitirá entender:\n",
    "- Cómo se construye la arquitectura de LoRA manualmente.\n",
    "- Cómo se entrena solo la parte adaptable del modelo.\n",
    "- Qué papel juegan los hiperparámetros `r` (rango) y `alpha` (escalamiento)."
   ]
  },
  {
   "cell_type": "code",
   "execution_count": 1,
   "id": "46edee89",
   "metadata": {},
   "outputs": [],
   "source": [
    "# Importamos librerías necesarias\n",
    "\n",
    "import torch\n",
    "import torch.nn as nn\n",
    "import torch.nn.functional as F\n",
    "import matplotlib.pyplot as plt\n",
    "import math"
   ]
  },
  {
   "cell_type": "code",
   "execution_count": 2,
   "id": "45801a5d",
   "metadata": {},
   "outputs": [],
   "source": [
    "# Simulamos datos de entrenamiento y definimos clases para llevar a cabo el fine-tuning\n",
    "\n",
    "x = torch.randn(64, 64) \n",
    "target = torch.randn(64, 32) \n",
    "\n",
    "class FrozenLinear(nn.Module):\n",
    "    \"\"\"\n",
    "    Capa lineal con pesos y bias congelados (no entrenables).\n",
    "\n",
    "    Args:\n",
    "        in_features (int): Número de características de entrada.\n",
    "        out_features (int): Número de características de salida.\n",
    "    \"\"\"\n",
    "    def __init__(self, in_features, out_features):\n",
    "        \"\"\"\n",
    "        Inicializa la capa FrozenLinear con pesos aleatorios y bias en cero.\n",
    "\n",
    "        Args:\n",
    "            in_features (int): Número de características de entrada.\n",
    "            out_features (int): Número de características de salida.\n",
    "        \"\"\"\n",
    "        super().__init__()\n",
    "        self.weight = nn.Parameter(torch.randn(out_features, in_features))\n",
    "        self.bias = nn.Parameter(torch.zeros(out_features))\n",
    "        self.weight.requires_grad = False\n",
    "        self.bias.requires_grad = False\n",
    "\n",
    "    def forward(self, x):\n",
    "        \"\"\"\n",
    "        Realiza la pasada hacia adelante usando los pesos y bias congelados.\n",
    "\n",
    "        Args:\n",
    "            x (torch.Tensor): Tensor de entrada.\n",
    "\n",
    "        Returns:\n",
    "            torch.Tensor: Salida de la capa lineal.\n",
    "        \"\"\"\n",
    "        return F.linear(x, self.weight, self.bias)\n",
    "\n",
    "class LoRALinear(nn.Module):\n",
    "    \"\"\"\n",
    "    Capa lineal con adaptación LoRA sobre una capa congelada.\n",
    "\n",
    "    Args:\n",
    "        frozen_layer (FrozenLinear): Capa lineal congelada.\n",
    "        r (int): Rango de la descomposición de LoRA.\n",
    "        alpha (int): Escalado de LoRA.\n",
    "    \"\"\"\n",
    "    def __init__(self, frozen_layer, r=4, alpha=8):\n",
    "        \"\"\"\n",
    "        Inicializa la capa LoRALinear con matrices A y B entrenables.\n",
    "\n",
    "        Args:\n",
    "            frozen_layer (FrozenLinear): Capa lineal congelada.\n",
    "            r (int): Rango de la descomposición de LoRA.\n",
    "            alpha (int): Escalado de LoRA.\n",
    "        \"\"\"\n",
    "        super().__init__()\n",
    "        self.frozen = frozen_layer\n",
    "        self.r = r\n",
    "        self.alpha = alpha\n",
    "        self.scaling = alpha / r\n",
    "        in_features = frozen_layer.weight.shape[1]\n",
    "        out_features = frozen_layer.weight.shape[0]\n",
    "\n",
    "        self.A = nn.Linear(in_features, r, bias=False)\n",
    "        self.B = nn.Linear(r, out_features, bias=False)\n",
    "\n",
    "        nn.init.kaiming_uniform_(self.A.weight, a=math.sqrt(5))\n",
    "        nn.init.zeros_(self.B.weight)\n",
    "\n",
    "    def forward(self, x):\n",
    "        \"\"\"\n",
    "        Realiza la pasada hacia adelante sumando la salida congelada y la adaptación LoRA.\n",
    "\n",
    "        Args:\n",
    "            x (torch.Tensor): Tensor de entrada.\n",
    "\n",
    "        Returns:\n",
    "            torch.Tensor: Salida de la capa LoRA.\n",
    "        \"\"\"\n",
    "        return self.frozen(x) + self.scaling * self.B(self.A(x))"
   ]
  },
  {
   "cell_type": "code",
   "execution_count": 3,
   "id": "d1cee08a",
   "metadata": {},
   "outputs": [],
   "source": [
    "# Definimos capas congeladas y LoRA, optimizador y hacemos fine-tuning\n",
    "\n",
    "frozen_layer = FrozenLinear(64, 32)\n",
    "lora_layer = LoRALinear(frozen_layer)\n",
    "optimizer = torch.optim.Adam(lora_layer.parameters(), lr=1e-2)\n",
    "\n",
    "losses = []\n",
    "for epoch in range(100):\n",
    "    optimizer.zero_grad()\n",
    "    output = lora_layer(x)\n",
    "    loss = F.mse_loss(output, target)\n",
    "    loss.backward()\n",
    "    optimizer.step()\n",
    "    losses.append(loss.item())"
   ]
  },
  {
   "cell_type": "code",
   "execution_count": 4,
   "id": "ab67dcc4",
   "metadata": {},
   "outputs": [
    {
     "data": {
      "image/png": "[encoded data removed]",
      "text/plain": [
       "<Figure size 640x480 with 1 Axes>"
      ]
     },
     "metadata": {},
     "output_type": "display_data"
    }
   ],
   "source": [
    "# Visualizamos la pérdida durante el fine-tuning\n",
    "\n",
    "plt.plot(losses)\n",
    "plt.title(\"Training Loss - LoRA vs Frozen Linear\")\n",
    "plt.xlabel(\"Epoch\")\n",
    "plt.ylabel(\"MSE Loss\")\n",
    "plt.grid(True)\n",
    "plt.show()"
   ]
  },
  {
   "cell_type": "code",
   "execution_count": 5,
   "id": "89116892",
   "metadata": {},
   "outputs": [
    {
     "data": {
      "image/png": "[encoded data removed]",
      "text/plain": [
       "<Figure size 1500x400 with 6 Axes>"
      ]
     },
     "metadata": {},
     "output_type": "display_data"
    }
   ],
   "source": [
    "# Visualización de pesos antes y después del fine-tuning\n",
    "\n",
    "with torch.no_grad():\n",
    "    A = lora_layer.A.weight  \n",
    "    B = lora_layer.B.weight  \n",
    "    delta_W = (A.T @ B.T).T  \n",
    "\n",
    "    W_frozen = frozen_layer.weight.detach()\n",
    "    W_effective = W_frozen + delta_W\n",
    "\n",
    "plt.figure(figsize=(15, 4))\n",
    "\n",
    "plt.subplot(1, 3, 1)\n",
    "plt.imshow(W_frozen.numpy(), aspect='auto', cmap='Greens')\n",
    "plt.title(\"Matriz de pesos originales (W)\")\n",
    "plt.colorbar()\n",
    "\n",
    "plt.subplot(1, 3, 2)\n",
    "plt.imshow(delta_W.numpy(), aspect='auto', cmap='coolwarm')\n",
    "plt.title(\"Perturbación de LoRA (∆W = A @ B)\")\n",
    "plt.colorbar()\n",
    "\n",
    "plt.subplot(1, 3, 3)\n",
    "plt.imshow(W_effective.numpy(), aspect='auto', cmap='cividis')\n",
    "plt.title(\"matriz de pesos efectivos (W + ∆W)\")\n",
    "plt.colorbar()\n",
    "\n",
    "plt.tight_layout()\n",
    "plt.show()\n",
    "\n"
   ]
  },
  {
   "cell_type": "markdown",
   "id": "f1d8a696",
   "metadata": {},
   "source": [
    "### 3. Generación de resúmenes: Modelo pre-entrenado vs modelos con fine-tuning"
   ]
  },
  {
   "cell_type": "markdown",
   "id": "ab454d8c",
   "metadata": {},
   "source": [
    "Ahora vamos a algo más realista. Vamos a utilizar un modelo preentrenado: **`google/flan-t5-small`**, diseñado para tareas de generación de texto.\n",
    "\n",
    "En esta sección:\n",
    "- Cargaremos y preprocesaremos el conjunto de datos `XSum` para tareas de resumen automático.\n",
    "- Evaluaremos la capacidad del modelo original (zero-shot).\n",
    "- Aplicaremos **LoRA** sobre el modelo T5 utilizando la librería `peft` de Hugging Face.\n",
    "- Entrenaremos solo los adaptadores LoRA, manteniendo el resto del modelo congelado.\n",
    "\n",
    "Esta parte es esencial para ver cómo se aplica LoRA en la práctica con un modelo grande y un conjunto de datos real. Además, compararemos el rendimiento del modelo pre-entrenado con diferentes fine-tunings."
   ]
  },
  {
   "cell_type": "code",
   "execution_count": 6,
   "id": "09d94e08",
   "metadata": {},
   "outputs": [
    {
     "name": "stderr",
     "output_type": "stream",
     "text": [
      "W0521 17:04:13.947000 13156 torch/distributed/elastic/multiprocessing/redirects.py:29] NOTE: Redirects are currently not supported in Windows or MacOs.\n"
     ]
    }
   ],
   "source": [
    "# Importamos librerías necesarias\n",
    "\n",
    "from datasets import load_dataset\n",
    "from transformers import AutoTokenizer, T5ForConditionalGeneration\n",
    "from transformers import Seq2SeqTrainer, Seq2SeqTrainingArguments, DataCollatorForSeq2Seq\n",
    "import evaluate\n",
    "import numpy as np\n",
    "from peft import LoraConfig, get_peft_model, TaskType\n",
    "import pandas as pd"
   ]
  },
  {
   "cell_type": "code",
   "execution_count": 7,
   "id": "62fa90b8",
   "metadata": {},
   "outputs": [
    {
     "name": "stderr",
     "output_type": "stream",
     "text": [
      "/Users/fdiazja/nlp_env/lib/python3.10/site-packages/huggingface_hub/file_download.py:943: FutureWarning: `resume_download` is deprecated and will be removed in version 1.0.0. Downloads always resume when possible. If you want to force a new download, use `force_download=True`.\n",
      "  warnings.warn(\n",
      "/Users/fdiazja/nlp_env/lib/python3.10/site-packages/datasets/load.py:1461: FutureWarning: The repository for xsum contains custom code which must be executed to correctly load the dataset. You can inspect the repository content at https://hf.co/datasets/xsum\n",
      "You can avoid this message in future by passing the argument `trust_remote_code=True`.\n",
      "Passing `trust_remote_code=True` will be mandatory to load this dataset from the next major release of `datasets`.\n",
      "  warnings.warn(\n"
     ]
    },
    {
     "data": {
      "application/vnd.jupyter.widget-view+json": {
       "model_id": "44c078a8c4414d539a0e1225428519a9",
       "version_major": 2,
       "version_minor": 0
      },
      "text/plain": [
       "Map:   0%|          | 0/270 [00:00<?, ? examples/s]"
      ]
     },
     "metadata": {},
     "output_type": "display_data"
    },
    {
     "name": "stderr",
     "output_type": "stream",
     "text": [
      "/Users/fdiazja/nlp_env/lib/python3.10/site-packages/transformers/tokenization_utils_base.py:3892: UserWarning: `as_target_tokenizer` is deprecated and will be removed in v5 of Transformers. You can tokenize your labels by using the argument `text_target` of the regular `__call__` method (either in the same call as your input texts if you use the same keyword arguments, or in a separate call.\n",
      "  warnings.warn(\n"
     ]
    },
    {
     "data": {
      "application/vnd.jupyter.widget-view+json": {
       "model_id": "3d8fb3a7127d4dedbbae78daf40ae103",
       "version_major": 2,
       "version_minor": 0
      },
      "text/plain": [
       "Map:   0%|          | 0/30 [00:00<?, ? examples/s]"
      ]
     },
     "metadata": {},
     "output_type": "display_data"
    }
   ],
   "source": [
    "# Importamos modelo pre-entrenado, tokenizador, dataset y procesamos los datos\n",
    "\n",
    "model_id = \"google/flan-t5-small\"\n",
    "tokenizer = AutoTokenizer.from_pretrained(model_id)\n",
    "model_full = T5ForConditionalGeneration.from_pretrained(model_id)\n",
    "model_full = model_full.to(\"cpu\")\n",
    "\n",
    "dataset = load_dataset(\"xsum\")\n",
    "dataset = dataset[\"train\"].select(range(300)).train_test_split(test_size=0.1)\n",
    "\n",
    "max_input_length = 128\n",
    "max_target_length = 32\n",
    "\n",
    "def preprocess(example):\n",
    "    \"\"\"\n",
    "    Preprocesa un ejemplo del dataset para el modelo T5, agregando el prompt y tokenizando.\n",
    "\n",
    "    Args:\n",
    "        example (dict): Diccionario con las claves 'document' y 'summary'.\n",
    "\n",
    "    Returns:\n",
    "        dict: Diccionario con los input_ids y labels tokenizados.\n",
    "    \"\"\"\n",
    "    inputs = [\"summarize: \" + doc for doc in example[\"document\"]]\n",
    "    model_inputs = tokenizer(inputs, max_length=max_input_length, padding=\"max_length\", truncation=True)\n",
    "    with tokenizer.as_target_tokenizer():\n",
    "        labels = tokenizer(example[\"summary\"], max_length=max_target_length, padding=\"max_length\", truncation=True)\n",
    "    model_inputs[\"labels\"] = labels[\"input_ids\"]\n",
    "    return model_inputs\n",
    "\n",
    "tokenized_dataset = dataset.map(preprocess, batched=True, remove_columns=dataset[\"train\"].column_names)"
   ]
  },
  {
   "cell_type": "code",
   "execution_count": 8,
   "id": "a256ba4b",
   "metadata": {},
   "outputs": [
    {
     "name": "stdout",
     "output_type": "stream",
     "text": [
      "\n",
      "Texto original:\n",
      " The 22-year-old midfielder, from Glasgow, was stopped by police for driving erratically in the Robroyston area at about 03:00 on 5 February.\n",
      "Officers asked him to provide a breath test and he gave an alcohol reading of 78mg - the legal limit is 22.\n",
      "At Glasgow Sheriff Court, McGregor was also fined Â£500.\n",
      "Sheriff Neil Mackinnon disqualified McGregor for 12 months, although he may get a reduction if he successfully completes a drink driving course.\n",
      "Last August, McGregor was banned from driving for four months and fined Â£400 after being caught driving at 69mph \n"
     ]
    }
   ],
   "source": [
    "# Generamos texto completo y lo tokenizamos\n",
    "\n",
    "sample = dataset[\"test\"][0][\"document\"]\n",
    "ref_summary = dataset[\"test\"][0][\"summary\"]\n",
    "input_ids = tokenizer(\"summarize: \" + sample, return_tensors=\"pt\", truncation=True, max_length=512).input_ids.to(\"cpu\")\n",
    "output_full = model_full.generate(input_ids, max_length=128)\n",
    "summary_full = tokenizer.decode(output_full[0], skip_special_tokens=True)\n",
    "\n",
    "print(\"\\nTexto original:\\n\", sample[:565])"
   ]
  },
  {
   "cell_type": "code",
   "execution_count": 9,
   "id": "0ee6ecb7",
   "metadata": {},
   "outputs": [
    {
     "name": "stdout",
     "output_type": "stream",
     "text": [
      "\n",
      "Resumen generado (Zero-shot, modelo preentrenado sin fine-tuning):\n",
      " A man has been fined £500 after he was caught driving at a speed limit of 69mph in a 50mph zone.\n"
     ]
    }
   ],
   "source": [
    "# Generamos resumen usando el modelo original\n",
    "model_zero = T5ForConditionalGeneration.from_pretrained(model_id).to(\"cpu\")\n",
    "input_ids_zero = tokenizer(\"summarize: \" + sample, return_tensors=\"pt\").input_ids.to(\"cpu\")\n",
    "output_zero = model_zero.generate(input_ids_zero, max_length=64)\n",
    "summary_zero = tokenizer.decode(output_zero[0], skip_special_tokens=True)\n",
    "\n",
    "print(\"\\nResumen generado (Zero-shot, modelo preentrenado sin fine-tuning):\\n\", summary_zero)"
   ]
  },
  {
   "cell_type": "code",
   "execution_count": 10,
   "id": "734f1ac3",
   "metadata": {},
   "outputs": [
    {
     "data": {
      "application/vnd.jupyter.widget-view+json": {
       "model_id": "90810f7443d242e1ab60662413820521",
       "version_major": 2,
       "version_minor": 0
      },
      "text/plain": [
       "  0%|          | 0/405 [00:00<?, ?it/s]"
      ]
     },
     "metadata": {},
     "output_type": "display_data"
    },
    {
     "name": "stderr",
     "output_type": "stream",
     "text": [
      "/Users/fdiazja/nlp_env/lib/python3.10/site-packages/torch/utils/data/dataloader.py:683: UserWarning: 'pin_memory' argument is set as true but not supported on MPS now, then device pinned memory won't be used.\n",
      "  warnings.warn(warn_msg)\n"
     ]
    },
    {
     "name": "stdout",
     "output_type": "stream",
     "text": [
      "{'loss': 6.823, 'grad_norm': 17.04875373840332, 'learning_rate': 4.876543209876544e-05, 'epoch': 0.07}\n",
      "{'loss': 8.6451, 'grad_norm': 7.313517093658447, 'learning_rate': 4.7530864197530866e-05, 'epoch': 0.15}\n",
      "{'loss': 6.9426, 'grad_norm': 18.56098747253418, 'learning_rate': 4.62962962962963e-05, 'epoch': 0.22}\n",
      "{'loss': 8.9434, 'grad_norm': 59.32418441772461, 'learning_rate': 4.506172839506173e-05, 'epoch': 0.3}\n",
      "{'loss': 6.2526, 'grad_norm': 20.575014114379883, 'learning_rate': 4.3827160493827164e-05, 'epoch': 0.37}\n",
      "{'loss': 7.2365, 'grad_norm': 25.480703353881836, 'learning_rate': 4.259259259259259e-05, 'epoch': 0.44}\n",
      "{'loss': 6.3993, 'grad_norm': 18.09258270263672, 'learning_rate': 4.135802469135803e-05, 'epoch': 0.52}\n",
      "{'loss': 5.7591, 'grad_norm': 13.313312530517578, 'learning_rate': 4.012345679012346e-05, 'epoch': 0.59}\n",
      "{'loss': 6.5166, 'grad_norm': 63.914031982421875, 'learning_rate': 3.888888888888889e-05, 'epoch': 0.67}\n",
      "{'loss': 4.8661, 'grad_norm': 7.904228210449219, 'learning_rate': 3.7654320987654326e-05, 'epoch': 0.74}\n",
      "{'loss': 5.3872, 'grad_norm': 5.0609307289123535, 'learning_rate': 3.6419753086419754e-05, 'epoch': 0.81}\n",
      "{'loss': 4.9969, 'grad_norm': 6.491097927093506, 'learning_rate': 3.518518518518519e-05, 'epoch': 0.89}\n",
      "{'loss': 4.6943, 'grad_norm': 9.63036060333252, 'learning_rate': 3.395061728395062e-05, 'epoch': 0.96}\n"
     ]
    },
    {
     "data": {
      "application/vnd.jupyter.widget-view+json": {
       "model_id": "1c0723da34804e7995030a647194447d",
       "version_major": 2,
       "version_minor": 0
      },
      "text/plain": [
       "  0%|          | 0/15 [00:00<?, ?it/s]"
      ]
     },
     "metadata": {},
     "output_type": "display_data"
    },
    {
     "name": "stdout",
     "output_type": "stream",
     "text": [
      "{'eval_loss': 3.672346591949463, 'eval_runtime': 0.4114, 'eval_samples_per_second': 72.916, 'eval_steps_per_second': 36.458, 'epoch': 1.0}\n",
      "{'loss': 3.8875, 'grad_norm': 6.853720664978027, 'learning_rate': 3.271604938271605e-05, 'epoch': 1.04}\n",
      "{'loss': 3.984, 'grad_norm': 7.70885705947876, 'learning_rate': 3.148148148148148e-05, 'epoch': 1.11}\n",
      "{'loss': 4.2035, 'grad_norm': 6.103145122528076, 'learning_rate': 3.0246913580246916e-05, 'epoch': 1.19}\n",
      "{'loss': 3.4667, 'grad_norm': 10.55515193939209, 'learning_rate': 2.9012345679012347e-05, 'epoch': 1.26}\n",
      "{'loss': 4.5857, 'grad_norm': 73.54252624511719, 'learning_rate': 2.777777777777778e-05, 'epoch': 1.33}\n",
      "{'loss': 3.8394, 'grad_norm': 7.521233558654785, 'learning_rate': 2.654320987654321e-05, 'epoch': 1.41}\n",
      "{'loss': 3.9041, 'grad_norm': 9.105769157409668, 'learning_rate': 2.5308641975308646e-05, 'epoch': 1.48}\n",
      "{'loss': 4.0341, 'grad_norm': 15.787440299987793, 'learning_rate': 2.4074074074074074e-05, 'epoch': 1.56}\n",
      "{'loss': 3.7035, 'grad_norm': 11.526800155639648, 'learning_rate': 2.2839506172839506e-05, 'epoch': 1.63}\n",
      "{'loss': 3.9704, 'grad_norm': 6.826360702514648, 'learning_rate': 2.1604938271604937e-05, 'epoch': 1.7}\n",
      "{'loss': 3.5363, 'grad_norm': 8.776388168334961, 'learning_rate': 2.037037037037037e-05, 'epoch': 1.78}\n",
      "{'loss': 3.4963, 'grad_norm': 8.499000549316406, 'learning_rate': 1.91358024691358e-05, 'epoch': 1.85}\n",
      "{'loss': 3.6948, 'grad_norm': 8.102455139160156, 'learning_rate': 1.7901234567901236e-05, 'epoch': 1.93}\n",
      "{'loss': 3.4849, 'grad_norm': 12.685652732849121, 'learning_rate': 1.6666666666666667e-05, 'epoch': 2.0}\n"
     ]
    },
    {
     "data": {
      "application/vnd.jupyter.widget-view+json": {
       "model_id": "8dc25dc33625496ebf6178cf677546e1",
       "version_major": 2,
       "version_minor": 0
      },
      "text/plain": [
       "  0%|          | 0/15 [00:00<?, ?it/s]"
      ]
     },
     "metadata": {},
     "output_type": "display_data"
    },
    {
     "name": "stdout",
     "output_type": "stream",
     "text": [
      "{'eval_loss': 3.0616629123687744, 'eval_runtime': 0.3872, 'eval_samples_per_second': 77.484, 'eval_steps_per_second': 38.742, 'epoch': 2.0}\n",
      "{'loss': 3.467, 'grad_norm': 8.567215919494629, 'learning_rate': 1.54320987654321e-05, 'epoch': 2.07}\n",
      "{'loss': 3.3718, 'grad_norm': 9.195969581604004, 'learning_rate': 1.419753086419753e-05, 'epoch': 2.15}\n",
      "{'loss': 3.1451, 'grad_norm': 6.909222602844238, 'learning_rate': 1.2962962962962962e-05, 'epoch': 2.22}\n",
      "{'loss': 3.8368, 'grad_norm': 6.60640811920166, 'learning_rate': 1.1728395061728396e-05, 'epoch': 2.3}\n",
      "{'loss': 3.2181, 'grad_norm': 8.251025199890137, 'learning_rate': 1.0493827160493827e-05, 'epoch': 2.37}\n",
      "{'loss': 3.5509, 'grad_norm': 6.635287761688232, 'learning_rate': 9.259259259259259e-06, 'epoch': 2.44}\n",
      "{'loss': 3.1366, 'grad_norm': 8.349624633789062, 'learning_rate': 8.02469135802469e-06, 'epoch': 2.52}\n",
      "{'loss': 3.6577, 'grad_norm': 4.452563762664795, 'learning_rate': 6.790123456790123e-06, 'epoch': 2.59}\n",
      "{'loss': 3.201, 'grad_norm': 12.995302200317383, 'learning_rate': 5.555555555555556e-06, 'epoch': 2.67}\n",
      "{'loss': 3.0875, 'grad_norm': 5.426018714904785, 'learning_rate': 4.3209876543209875e-06, 'epoch': 2.74}\n",
      "{'loss': 3.3471, 'grad_norm': 8.446846008300781, 'learning_rate': 3.0864197530864196e-06, 'epoch': 2.81}\n",
      "{'loss': 3.1952, 'grad_norm': 11.40330982208252, 'learning_rate': 1.8518518518518519e-06, 'epoch': 2.89}\n",
      "{'loss': 3.1247, 'grad_norm': 7.650882720947266, 'learning_rate': 6.17283950617284e-07, 'epoch': 2.96}\n"
     ]
    },
    {
     "data": {
      "application/vnd.jupyter.widget-view+json": {
       "model_id": "9f7dbec873d3421c9571dde190427864",
       "version_major": 2,
       "version_minor": 0
      },
      "text/plain": [
       "  0%|          | 0/15 [00:00<?, ?it/s]"
      ]
     },
     "metadata": {},
     "output_type": "display_data"
    },
    {
     "name": "stdout",
     "output_type": "stream",
     "text": [
      "{'eval_loss': 2.8737175464630127, 'eval_runtime': 0.3819, 'eval_samples_per_second': 78.561, 'eval_steps_per_second': 39.28, 'epoch': 3.0}\n",
      "{'train_runtime': 56.0973, 'train_samples_per_second': 14.439, 'train_steps_per_second': 7.22, 'train_loss': 4.4973138738561556, 'epoch': 3.0}\n"
     ]
    },
    {
     "data": {
      "text/plain": [
       "TrainOutput(global_step=405, training_loss=4.4973138738561556, metrics={'train_runtime': 56.0973, 'train_samples_per_second': 14.439, 'train_steps_per_second': 7.22, 'train_loss': 4.4973138738561556, 'epoch': 3.0})"
      ]
     },
     "execution_count": 10,
     "metadata": {},
     "output_type": "execute_result"
    }
   ],
   "source": [
    "# Realizamos fine-tuning cmpleto del modelo pre-entrenado con el fin de mejorar la generación de resúmenes\n",
    "\n",
    "args_full = Seq2SeqTrainingArguments(\n",
    "    output_dir=\"./flan_full\",\n",
    "    per_device_train_batch_size=2,\n",
    "    per_device_eval_batch_size=2,\n",
    "    num_train_epochs=3,\n",
    "    logging_steps=10,\n",
    "    evaluation_strategy=\"epoch\",\n",
    "    save_strategy=\"no\",\n",
    "    report_to=\"none\",\n",
    "    logging_dir=None\n",
    ")\n",
    "\n",
    "data_collator = DataCollatorForSeq2Seq(tokenizer, model=model_full)\n",
    "\n",
    "trainer_full = Seq2SeqTrainer(\n",
    "    model=model_full,\n",
    "    args=args_full,\n",
    "    train_dataset=tokenized_dataset[\"train\"],\n",
    "    eval_dataset=tokenized_dataset[\"test\"],\n",
    "    tokenizer=tokenizer,\n",
    "    data_collator=data_collator,\n",
    ")\n",
    "\n",
    "trainer_full.train()"
   ]
  },
  {
   "cell_type": "code",
   "execution_count": 11,
   "id": "6813bc8b",
   "metadata": {},
   "outputs": [
    {
     "name": "stdout",
     "output_type": "stream",
     "text": [
      "\n",
      "Texto original:\n",
      " The 22-year-old midfielder, from Glasgow, was stopped by police for driving erratically in the Robroyston area at about 03:00 on 5 February.\n",
      "Officers asked him to provide a breath test and he gave an alcohol reading of 78mg - the legal limit is 22.\n",
      "At Glasgow Sheriff Court, McGregor was also fined Â£500.\n",
      "Sheriff Neil Mackinnon disqualified McGregor for 12 months, although he may get a reduction if he successfully completes a drink driving course.\n",
      "Last August, McGregor was banned from driving for\n",
      "\n",
      "Resumen generado (Fine-tuning completo):\n",
      " A man has been fined for driving a speed gun in Glasgow after he was caught driving at a speed limit of £100.\n"
     ]
    }
   ],
   "source": [
    "# Generamos un resumen con el modelo completamente ajustado\n",
    "\n",
    "model_full = model_full.to(\"cpu\")\n",
    "output_full = model_full.generate(input_ids, max_length=64)\n",
    "summary_full = tokenizer.decode(output_full[0], skip_special_tokens=True)\n",
    "\n",
    "print(\"\\nTexto original:\\n\", sample[:500])\n",
    "print(\"\\nResumen generado (Fine-tuning completo):\\n\", summary_full)"
   ]
  },
  {
   "cell_type": "code",
   "execution_count": 12,
   "id": "81c5da41",
   "metadata": {},
   "outputs": [
    {
     "name": "stdout",
     "output_type": "stream",
     "text": [
      "trainable params: 344,064 || all params: 77,305,216 || trainable%: 0.445072166928555\n"
     ]
    },
    {
     "data": {
      "application/vnd.jupyter.widget-view+json": {
       "model_id": "31eb94d3989740c0b6312f6ed6c7a602",
       "version_major": 2,
       "version_minor": 0
      },
      "text/plain": [
       "  0%|          | 0/405 [00:00<?, ?it/s]"
      ]
     },
     "metadata": {},
     "output_type": "display_data"
    },
    {
     "name": "stdout",
     "output_type": "stream",
     "text": [
      "{'loss': 6.9365, 'grad_norm': 1.176133155822754, 'learning_rate': 4.876543209876544e-05, 'epoch': 0.07}\n",
      "{'loss': 9.4285, 'grad_norm': 0.47467100620269775, 'learning_rate': 4.7530864197530866e-05, 'epoch': 0.15}\n",
      "{'loss': 7.7389, 'grad_norm': 0.7548806667327881, 'learning_rate': 4.62962962962963e-05, 'epoch': 0.22}\n",
      "{'loss': 10.8094, 'grad_norm': 3.9455089569091797, 'learning_rate': 4.506172839506173e-05, 'epoch': 0.3}\n",
      "{'loss': 7.6412, 'grad_norm': 1.607319712638855, 'learning_rate': 4.3827160493827164e-05, 'epoch': 0.37}\n",
      "{'loss': 9.6246, 'grad_norm': 1.8435596227645874, 'learning_rate': 4.259259259259259e-05, 'epoch': 0.44}\n",
      "{'loss': 8.814, 'grad_norm': 1.0406551361083984, 'learning_rate': 4.135802469135803e-05, 'epoch': 0.52}\n",
      "{'loss': 7.7852, 'grad_norm': 1.5155953168869019, 'learning_rate': 4.012345679012346e-05, 'epoch': 0.59}\n",
      "{'loss': 9.886, 'grad_norm': 4.04486608505249, 'learning_rate': 3.888888888888889e-05, 'epoch': 0.67}\n",
      "{'loss': 7.2519, 'grad_norm': 0.9992116093635559, 'learning_rate': 3.7654320987654326e-05, 'epoch': 0.74}\n",
      "{'loss': 9.0272, 'grad_norm': 0.43259015679359436, 'learning_rate': 3.6419753086419754e-05, 'epoch': 0.81}\n",
      "{'loss': 7.9287, 'grad_norm': 0.4654651880264282, 'learning_rate': 3.518518518518519e-05, 'epoch': 0.89}\n",
      "{'loss': 8.509, 'grad_norm': 0.867306113243103, 'learning_rate': 3.395061728395062e-05, 'epoch': 0.96}\n"
     ]
    },
    {
     "data": {
      "application/vnd.jupyter.widget-view+json": {
       "model_id": "2a07b71448d3482db731763b03a4e9f6",
       "version_major": 2,
       "version_minor": 0
      },
      "text/plain": [
       "  0%|          | 0/15 [00:00<?, ?it/s]"
      ]
     },
     "metadata": {},
     "output_type": "display_data"
    },
    {
     "name": "stdout",
     "output_type": "stream",
     "text": [
      "{'eval_loss': 9.109739303588867, 'eval_runtime': 0.4908, 'eval_samples_per_second': 61.126, 'eval_steps_per_second': 30.563, 'epoch': 1.0}\n",
      "{'loss': 6.4823, 'grad_norm': 0.49083563685417175, 'learning_rate': 3.271604938271605e-05, 'epoch': 1.04}\n",
      "{'loss': 7.4349, 'grad_norm': 0.9457835555076599, 'learning_rate': 3.148148148148148e-05, 'epoch': 1.11}\n",
      "{'loss': 9.1243, 'grad_norm': 0.7394063472747803, 'learning_rate': 3.0246913580246916e-05, 'epoch': 1.19}\n",
      "{'loss': 6.3906, 'grad_norm': 1.906111717224121, 'learning_rate': 2.9012345679012347e-05, 'epoch': 1.26}\n",
      "{'loss': 10.0011, 'grad_norm': 5.627717018127441, 'learning_rate': 2.777777777777778e-05, 'epoch': 1.33}\n",
      "{'loss': 8.5325, 'grad_norm': 2.1861162185668945, 'learning_rate': 2.654320987654321e-05, 'epoch': 1.41}\n",
      "{'loss': 8.6742, 'grad_norm': 1.404967188835144, 'learning_rate': 2.5308641975308646e-05, 'epoch': 1.48}\n",
      "{'loss': 9.8282, 'grad_norm': 2.6088054180145264, 'learning_rate': 2.4074074074074074e-05, 'epoch': 1.56}\n",
      "{'loss': 7.1049, 'grad_norm': 3.202620029449463, 'learning_rate': 2.2839506172839506e-05, 'epoch': 1.63}\n",
      "{'loss': 9.2217, 'grad_norm': 1.340226411819458, 'learning_rate': 2.1604938271604937e-05, 'epoch': 1.7}\n",
      "{'loss': 7.6182, 'grad_norm': 1.156083106994629, 'learning_rate': 2.037037037037037e-05, 'epoch': 1.78}\n",
      "{'loss': 7.5188, 'grad_norm': 2.063256025314331, 'learning_rate': 1.91358024691358e-05, 'epoch': 1.85}\n",
      "{'loss': 6.6115, 'grad_norm': 3.4775888919830322, 'learning_rate': 1.7901234567901236e-05, 'epoch': 1.93}\n",
      "{'loss': 8.8956, 'grad_norm': 4.612874984741211, 'learning_rate': 1.6666666666666667e-05, 'epoch': 2.0}\n"
     ]
    },
    {
     "data": {
      "application/vnd.jupyter.widget-view+json": {
       "model_id": "18bed1b33f994bb296c63de1ef4614b0",
       "version_major": 2,
       "version_minor": 0
      },
      "text/plain": [
       "  0%|          | 0/15 [00:00<?, ?it/s]"
      ]
     },
     "metadata": {},
     "output_type": "display_data"
    },
    {
     "name": "stdout",
     "output_type": "stream",
     "text": [
      "{'eval_loss': 8.580060005187988, 'eval_runtime': 0.5259, 'eval_samples_per_second': 57.05, 'eval_steps_per_second': 28.525, 'epoch': 2.0}\n",
      "{'loss': 9.3363, 'grad_norm': 2.334899425506592, 'learning_rate': 1.54320987654321e-05, 'epoch': 2.07}\n",
      "{'loss': 7.6159, 'grad_norm': 2.0214364528656006, 'learning_rate': 1.419753086419753e-05, 'epoch': 2.15}\n",
      "{'loss': 8.0038, 'grad_norm': 1.2713804244995117, 'learning_rate': 1.2962962962962962e-05, 'epoch': 2.22}\n",
      "{'loss': 7.9888, 'grad_norm': 1.0204565525054932, 'learning_rate': 1.1728395061728396e-05, 'epoch': 2.3}\n",
      "{'loss': 6.4245, 'grad_norm': 0.7237456440925598, 'learning_rate': 1.0493827160493827e-05, 'epoch': 2.37}\n",
      "{'loss': 8.6503, 'grad_norm': 1.7341307401657104, 'learning_rate': 9.259259259259259e-06, 'epoch': 2.44}\n",
      "{'loss': 7.7874, 'grad_norm': 2.9504032135009766, 'learning_rate': 8.02469135802469e-06, 'epoch': 2.52}\n",
      "{'loss': 9.1025, 'grad_norm': 0.5673863291740417, 'learning_rate': 6.790123456790123e-06, 'epoch': 2.59}\n",
      "{'loss': 7.0783, 'grad_norm': 2.18873929977417, 'learning_rate': 5.555555555555556e-06, 'epoch': 2.67}\n",
      "{'loss': 5.9526, 'grad_norm': 1.038299322128296, 'learning_rate': 4.3209876543209875e-06, 'epoch': 2.74}\n",
      "{'loss': 8.7619, 'grad_norm': 2.3528876304626465, 'learning_rate': 3.0864197530864196e-06, 'epoch': 2.81}\n",
      "{'loss': 8.4643, 'grad_norm': 1.7664731740951538, 'learning_rate': 1.8518518518518519e-06, 'epoch': 2.89}\n",
      "{'loss': 6.9264, 'grad_norm': 1.6154757738113403, 'learning_rate': 6.17283950617284e-07, 'epoch': 2.96}\n"
     ]
    },
    {
     "data": {
      "application/vnd.jupyter.widget-view+json": {
       "model_id": "2d244e3bd2fe42cbb6b785fbb9e906ba",
       "version_major": 2,
       "version_minor": 0
      },
      "text/plain": [
       "  0%|          | 0/15 [00:00<?, ?it/s]"
      ]
     },
     "metadata": {},
     "output_type": "display_data"
    },
    {
     "name": "stdout",
     "output_type": "stream",
     "text": [
      "{'eval_loss': 8.385824203491211, 'eval_runtime': 0.5205, 'eval_samples_per_second': 57.632, 'eval_steps_per_second': 28.816, 'epoch': 3.0}\n",
      "{'train_runtime': 50.6798, 'train_samples_per_second': 15.983, 'train_steps_per_second': 7.991, 'train_loss': 8.180436160240644, 'epoch': 3.0}\n"
     ]
    }
   ],
   "source": [
    "# Realizamos el fine-tuning del modelo pre-entrenado usando LoRA\n",
    "\n",
    "base_model = T5ForConditionalGeneration.from_pretrained(model_id).to(\"cpu\")\n",
    "lora_config = LoraConfig(\n",
    "    task_type=TaskType.SEQ_2_SEQ_LM,\n",
    "    r=8,\n",
    "    lora_alpha=16,\n",
    "    lora_dropout=0.1,\n",
    "    bias=\"none\"\n",
    ")\n",
    "\n",
    "model_lora = get_peft_model(base_model, lora_config)\n",
    "model_lora.print_trainable_parameters()\n",
    "\n",
    "args_lora = Seq2SeqTrainingArguments(\n",
    "    logging_dir=None,        \n",
    "    output_dir=\"./flan_lora\",\n",
    "    per_device_train_batch_size=2,\n",
    "    per_device_eval_batch_size=2,\n",
    "    num_train_epochs=3,\n",
    "    logging_steps=10,\n",
    "    evaluation_strategy=\"epoch\",\n",
    "    save_strategy=\"no\",\n",
    "    report_to=\"none\",\n",
    ")\n",
    "\n",
    "trainer_lora = Seq2SeqTrainer(\n",
    "    model=model_lora,\n",
    "    args=args_lora,\n",
    "    train_dataset=tokenized_dataset[\"train\"],\n",
    "    eval_dataset=tokenized_dataset[\"test\"],\n",
    "    tokenizer=tokenizer,\n",
    "    data_collator=data_collator\n",
    ")\n",
    "\n",
    "trainer_lora.train()\n",
    "\n",
    "model_lora = model_lora.to(\"cpu\")\n",
    "model_lora.base_model = model_lora.base_model.to(\"cpu\") "
   ]
  },
  {
   "cell_type": "code",
   "execution_count": 13,
   "id": "8c40abaa",
   "metadata": {},
   "outputs": [
    {
     "name": "stdout",
     "output_type": "stream",
     "text": [
      "\n",
      "Resumen generado (LoRA):\n",
      " A man has been fined £500 after he was caught driving at a speed limit of £15,000 a day.\n"
     ]
    }
   ],
   "source": [
    "# Generamos resumen con  LoRA\n",
    "\n",
    "output_lora = model_lora.base_model.generate(input_ids, max_length=64)\n",
    "summary_lora = tokenizer.decode(output_lora[0], skip_special_tokens=True)\n",
    "\n",
    "print(\"\\nResumen generado (LoRA):\\n\", summary_lora)"
   ]
  },
  {
   "cell_type": "code",
   "execution_count": 14,
   "id": "f1d1d733",
   "metadata": {},
   "outputs": [
    {
     "name": "stdout",
     "output_type": "stream",
     "text": [
      "\n",
      "Resumen generado (Zero-shot, modelo preentrenado sin fine-tuning):\n",
      " A man has been fined £500 after he was caught driving at a speed limit of 69mph in a 50mph zone.\n",
      "\n",
      "ROUGE (Inicial): {'rouge1': 41.67, 'rouge2': 17.39, 'rougeL': 33.33, 'rougeLsum': 33.33}\n",
      "\n",
      "Resumen generado (Fine-tuning completo):\n",
      " A man has been fined for driving a speed gun in Glasgow after he was caught driving at a speed limit of £100.\n",
      "\n",
      "ROUGE (Fine-tuning completo): {'rouge1': 40.0, 'rouge2': 16.67, 'rougeL': 36.0, 'rougeLsum': 36.0}\n",
      "\n",
      "Resumen generado (LoRA):\n",
      " A man has been fined £500 after he was caught driving at a speed limit of £15,000 a day.\n",
      "\n",
      "ROUGE (LoRA): {'rouge1': 42.55, 'rouge2': 17.78, 'rougeL': 34.04, 'rougeLsum': 34.04}\n",
      "                  rouge1  rouge2  rougeL  rougeLsum\n",
      "Zero-shot           0.42    0.17    0.33       0.33\n",
      "Full Fine-tuning    0.40    0.17    0.36       0.36\n",
      "LoRA                0.43    0.18    0.34       0.34\n"
     ]
    }
   ],
   "source": [
    "# Medimos la calidad del resumen generado por el modelo LoRA\n",
    "\n",
    "\n",
    "metric = evaluate.load(\"rouge\")\n",
    "\n",
    "results_zero = metric.compute(predictions=[summary_zero], references=[ref_summary], use_stemmer=True)\n",
    "print(\"\\nResumen generado (Zero-shot, modelo preentrenado sin fine-tuning):\\n\", summary_zero)\n",
    "print(\"\\nROUGE (Inicial):\", {k: round(v * 100, 2) for k, v in results_zero.items()})\n",
    "\n",
    "results_full = metric.compute(predictions=[summary_full], references=[ref_summary], use_stemmer=True)\n",
    "print(\"\\nResumen generado (Fine-tuning completo):\\n\", summary_full)\n",
    "print(\"\\nROUGE (Fine-tuning completo):\", {k: round(v * 100, 2) for k, v in results_full.items()})\n",
    "\n",
    "results_lora = metric.compute(predictions=[summary_lora], references=[ref_summary], use_stemmer=True)\n",
    "print(\"\\nResumen generado (LoRA):\\n\", summary_lora)\n",
    "print(\"\\nROUGE (LoRA):\", {k: round(v * 100, 2) for k, v in results_lora.items()})\n",
    "\n",
    "df_rouge = pd.DataFrame([results_zero, results_full, results_lora], index=[\"Zero-shot\", \"Full Fine-tuning\", \"LoRA\"])\n",
    "\n",
    "df_rouge = df_rouge.round(2)\n",
    "print(df_rouge)"
   ]
  },
  {
   "cell_type": "code",
   "execution_count": 15,
   "id": "831d8a6b",
   "metadata": {},
   "outputs": [
    {
     "name": "stdout",
     "output_type": "stream",
     "text": [
      "\n",
      "Guardando modelos...\n",
      "Modelos guardados en './model_full_ft', './model_lora_ft', y './tokenizer_ft'\n"
     ]
    },
    {
     "name": "stderr",
     "output_type": "stream",
     "text": [
      "/Users/fdiazja/nlp_env/lib/python3.10/site-packages/huggingface_hub/file_download.py:943: FutureWarning: `resume_download` is deprecated and will be removed in version 1.0.0. Downloads always resume when possible. If you want to force a new download, use `force_download=True`.\n",
      "  warnings.warn(\n"
     ]
    }
   ],
   "source": [
    "# Guardamos los modelos para usarlos en otro momento\n",
    "\n",
    "print(\"\\nGuardando modelos...\")\n",
    "\n",
    "model_full.save_pretrained(\"./model_full_ft\")\n",
    "model_lora.save_pretrained(\"./model_lora_ft\")\n",
    "tokenizer.save_pretrained(\"./tokenizer_ft\")\n",
    "\n",
    "print(\"Modelos guardados en './model_full_ft', './model_lora_ft', y './tokenizer_ft'\")"
   ]
  }
 ],
 "metadata": {
  "kernelspec": {
   "display_name": "nlp_env",
   "language": "python",
   "name": "python3"
  },
  "language_info": {
   "codemirror_mode": {
    "name": "ipython",
    "version": 3
   },
   "file_extension": ".py",
   "mimetype": "text/x-python",
   "name": "python",
   "nbconvert_exporter": "python",
   "pygments_lexer": "ipython3",
   "version": "3.10.13"
  }
 },
 "nbformat": 4,
 "nbformat_minor": 5
}
