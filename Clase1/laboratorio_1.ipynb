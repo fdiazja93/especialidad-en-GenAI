{
 "cells": [
  {
   "cell_type": "markdown",
   "id": "7c272141",
   "metadata": {},
   "source": [
    "### Laboratorio 1"
   ]
  },
  {
   "cell_type": "markdown",
   "id": "f13d50f2",
   "metadata": {},
   "source": []
  }
 ],
 "metadata": {
  "kernelspec": {
   "display_name": "Python 3",
   "language": "python",
   "name": "python3"
  },
  "language_info": {
   "name": "python",
   "version": "3.13.2"
  }
 },
 "nbformat": 4,
 "nbformat_minor": 5
}
