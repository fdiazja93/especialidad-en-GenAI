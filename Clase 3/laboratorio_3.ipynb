{
 "cells": [
  {
   "cell_type": "markdown",
   "id": "e55532df",
   "metadata": {},
   "source": [
    "### 1. Laboratorio clase 3: Introducción y contexto"
   ]
  },
  {
   "cell_type": "markdown",
   "id": "1201a947",
   "metadata": {},
   "source": [
    "En este laboratorio vamos a profundizar en la construcción de modelos N-gram, modelos de Markov ocultos, y en los principios de funcionamiento de redes neuronales en el contexto del procesamiento del lenguaje natural. El objetivo de estos ejercicios es aprende a construir modelos de lengiaje simples con los que podamos llevar a cabo tareas como completar prompts, asignarle tags a palabras y entrenar embedding para palabras usando redes neuronales."
   ]
  },
  {
   "cell_type": "markdown",
   "id": "af491050",
   "metadata": {},
   "source": [
    "### 2. Modelos N-gram"
   ]
  },
  {
   "cell_type": "markdown",
   "id": "dbaff1c1",
   "metadata": {},
   "source": [
    "En este ejercicio, vamos a construir modelos N-gram para completar texto. Para construir los modelos, vamos a permitir cambiar N para ver el desempeño del modelo con diferentes configuraciones. Adicionalmente, calcularemos las probabilidades que el modelo predice con suavizado de Laplace con el fin de mejorar el desempeño del modelo. "
   ]
  },
  {
   "cell_type": "code",
   "execution_count": 1,
   "id": "347c497b",
   "metadata": {},
   "outputs": [
    {
     "name": "stderr",
     "output_type": "stream",
     "text": [
      "[nltk_data] Downloading package punkt to\n",
      "[nltk_data]     /Users/fdiazja/Documents/work/classes/especialidad-en-\n",
      "[nltk_data]     GenAI/especialidad-en-GenAI/Clase 3/nltk_data...\n",
      "[nltk_data]   Unzipping tokenizers/punkt.zip.\n",
      "[nltk_data] Downloading package punkt_tab to\n",
      "[nltk_data]     /Users/fdiazja/Documents/work/classes/especialidad-en-\n",
      "[nltk_data]     GenAI/especialidad-en-GenAI/Clase 3/nltk_data...\n",
      "[nltk_data]   Unzipping tokenizers/punkt_tab.zip.\n",
      "[nltk_data] Downloading package perluniprops to\n",
      "[nltk_data]     /Users/fdiazja/Documents/work/classes/especialidad-en-\n",
      "[nltk_data]     GenAI/especialidad-en-GenAI/Clase 3/nltk_data...\n",
      "[nltk_data]   Unzipping misc/perluniprops.zip.\n",
      "[nltk_data] Downloading package nonbreaking_prefixes to\n",
      "[nltk_data]     /Users/fdiazja/Documents/work/classes/especialidad-en-\n",
      "[nltk_data]     GenAI/especialidad-en-GenAI/Clase 3/nltk_data...\n",
      "[nltk_data]   Unzipping corpora/nonbreaking_prefixes.zip.\n"
     ]
    }
   ],
   "source": [
    "# Importamos las librerías necesarias\n",
    "import os\n",
    "import shutil\n",
    "local_nltk_path = os.path.join(os.getcwd(), \"nltk_data\")\n",
    "shutil.rmtree(local_nltk_path, ignore_errors=True)\n",
    "os.makedirs(local_nltk_path, exist_ok=True)\n",
    "import nltk\n",
    "nltk.data.path.clear()\n",
    "nltk.data.path.append(local_nltk_path)\n",
    "nltk.download('punkt', download_dir=local_nltk_path)\n",
    "nltk.download('punkt_tab', download_dir=local_nltk_path)\n",
    "nltk.download('perluniprops', download_dir=local_nltk_path)\n",
    "nltk.download('nonbreaking_prefixes', download_dir=local_nltk_path)\n",
    "from collections import Counter\n",
    "import math\n",
    "import unicodedata\n",
    "import string"
   ]
  },
  {
   "cell_type": "code",
   "execution_count": 2,
   "id": "afb5f5d2",
   "metadata": {},
   "outputs": [],
   "source": [
    "# Definimos el corpus de texto en español para entrenar el modelo. Además, procesamos el texto para eliminar acentos y normalizarlo.\n",
    "\n",
    "corpus = \"\"\"\n",
    "El gato se sentó en la alfombra. El perro se sentó en el tronco. El gato y el perro son amigos.\n",
    "María tiene un gato llamado Tomás que le gusta dormir en la alfombra.\n",
    "Los perros generalmente prefieren los espacios abiertos como los parques.\n",
    "Ana y Juan pasean a sus perros todas las mañanas antes del desayuno.\n",
    "El clima estaba soleado y los niños jugaban con sus mascotas en el jardín.\n",
    "Un gato curioso se subió al tejado y observó todo desde arriba.\n",
    "La tienda de mascotas vende comida, juguetes y ropa para perros y gatos.\n",
    "\"\"\"\n",
    "\n",
    "def normalize_text(text, remove_punctuation=False):\n",
    "    \"\"\"\n",
    "    Normaliza el texto eliminando acentos y, opcionalmente, signos de puntuación.\n",
    "\n",
    "    Args:\n",
    "        text (str): Texto de entrada a normalizar.\n",
    "        remove_punctuation (bool): Si es True, elimina la puntuación.\n",
    "\n",
    "    Returns:\n",
    "        str: Texto normalizado.\n",
    "    \"\"\"\n",
    "    text = ''.join(c for c in unicodedata.normalize('NFD', text)\n",
    "                   if unicodedata.category(c) != 'Mn')\n",
    "    if remove_punctuation:\n",
    "        text = text.translate(str.maketrans('', '', string.punctuation))\n",
    "    return text\n",
    "\n",
    "\n",
    "cleaned_corpus = normalize_text(corpus, remove_punctuation=False)\n",
    "tokens = nltk.word_tokenize(cleaned_corpus.lower(), language='spanish')\n",
    "vocab = set(tokens)"
   ]
  },
  {
   "cell_type": "code",
   "execution_count": 3,
   "id": "265a4f1a",
   "metadata": {},
   "outputs": [],
   "source": [
    "# Generamos N-gramas y calculamos probabilidades suavizadas.\n",
    "\n",
    "def generate_ngrams(tokens, N):\n",
    "    \"\"\"\n",
    "    Genera una lista de N-gramas a partir de una lista de tokens.\n",
    "\n",
    "    Args:\n",
    "        tokens (list): Lista de tokens (palabras).\n",
    "        N (int): Tamaño del N-grama.\n",
    "\n",
    "    Returns:\n",
    "        list: Lista de tuplas, cada una representando un N-grama.\n",
    "    \"\"\"\n",
    "    return [tuple(tokens[i:i+N]) for i in range(len(tokens)-N+1)]\n",
    "\n",
    "N = 1\n",
    "grams = generate_ngrams(tokens, N)\n",
    "ngram_freq = Counter(grams)\n",
    "prefix_freq = Counter([gram[:-1] for gram in grams])\n",
    "\n",
    "def ngram_prob_smoothed(prefix, word, alpha=0.3):\n",
    "    \"\"\"\n",
    "    Calcula la probabilidad suavizada (Laplace) de que una palabra siga a un prefijo dado.\n",
    "\n",
    "    Args:\n",
    "        prefix (tuple or list): Prefijo de palabras (N-1 palabras).\n",
    "        word (str): Palabra candidata a seguir el prefijo.\n",
    "        alpha (float): Parámetro de suavizado.\n",
    "\n",
    "    Returns:\n",
    "        float: Probabilidad suavizada de la palabra dada el prefijo.\n",
    "    \"\"\"\n",
    "    prefix = tuple(prefix)\n",
    "    return (ngram_freq[prefix + (word,)] + alpha) / (prefix_freq[prefix] + alpha * len(vocab))"
   ]
  },
  {
   "cell_type": "code",
   "execution_count": 4,
   "id": "6abdff93",
   "metadata": {},
   "outputs": [
    {
     "name": "stdout",
     "output_type": "stream",
     "text": [
      "Palabra luego de ['el', 'gato']: espacios\n"
     ]
    }
   ],
   "source": [
    "# Predicción de la siguiente palabra\n",
    "\n",
    "def predict_next_ngram(context):\n",
    "    \"\"\"\n",
    "    Predice la siguiente palabra más probable dado un contexto usando el modelo N-grama suavizado.\n",
    "\n",
    "    Args:\n",
    "        context (list): Lista de palabras previas (contexto).\n",
    "\n",
    "    Returns:\n",
    "        str: Palabra más probable como siguiente en el contexto.\n",
    "    \"\"\"\n",
    "    context = context[-(N-1):]  # ensure correct context length\n",
    "    candidates = {w: ngram_prob_smoothed(context, w) for w in vocab}\n",
    "    return max(candidates, key=candidates.get)\n",
    "\n",
    "print(f\"Palabra luego de ['el', 'gato']: {predict_next_ngram(['el', 'gato'])}\")"
   ]
  },
  {
   "cell_type": "markdown",
   "id": "a71377fa",
   "metadata": {},
   "source": [
    "### 3. POS usando modelos de Markov ocultos"
   ]
  },
  {
   "cell_type": "markdown",
   "id": "a5a2f7fb",
   "metadata": {},
   "source": [
    "El objetivo de este ejercicio es utilizar un modelo de Markov oculto (HMM) para predecir etiquetas gramaticales (POS) en secuencias de palabras. Entrenaremos el modelo a partir de un corpus etiquetado utilizando estructuras de datos de la biblioteca collections, y luego compararemos su desempeño con el de un modelo de etiquetado de spaCy. Además, usamos el algoritmo Viterbi para predecir las secuencias de etiquetas más probables. "
   ]
  },
  {
   "cell_type": "code",
   "execution_count": 5,
   "id": "dae6c418",
   "metadata": {},
   "outputs": [],
   "source": [
    "# Importamos librerías necesarias\n",
    "\n",
    "from collections import Counter, defaultdict\n",
    "from collections import Counter\n",
    "import matplotlib.pyplot as plt\n",
    "import seaborn as sns\n",
    "from sklearn.metrics import confusion_matrix, ConfusionMatrixDisplay"
   ]
  },
  {
   "cell_type": "markdown",
   "id": "5733ffc9",
   "metadata": {},
   "source": [
    "Estimamos probabilidades iniciales, de transición y de emisión a partir de las frecuencias observadas en un corpus pequeño de entrenamiento etiquetado manualmente. Para facilitar el conteo de frecuencias, utilizamos la estructura defaultdict de la biblioteca collections, lo cual nos permite agrupar y acumular valores sin necesidad de inicializar manualmente cada clave."
   ]
  },
  {
   "cell_type": "code",
   "execution_count": 6,
   "id": "507774cb",
   "metadata": {},
   "outputs": [],
   "source": [
    "# Cálculo de probabilidades de inicio, transición y emisión\n",
    "tagged_obs = [\n",
    "    ('el', 'Articulo'), ('gato', 'Sustantivo'), ('duerme', 'Verbo'), ('.', 'Puntuacion'),\n",
    "    ('la', 'Articulo'), ('niña', 'Sustantivo'), ('juega', 'Verbo'), ('.', 'Puntuacion'),\n",
    "    ('el', 'Articulo'), ('perro', 'Sustantivo'), ('ladra', 'Verbo'), ('.', 'Puntuacion')\n",
    "]\n",
    "\n",
    "observations = [w for w, _ in tagged_obs]\n",
    "tags = [t for _, t in tagged_obs]\n",
    "states = sorted(set(tags))\n",
    "\n",
    "start_positions = [0, 4, 8]\n",
    "start_counts = Counter([tags[i] for i in start_positions])\n",
    "start_prob = {tag: start_counts[tag] / len(start_positions) for tag in states}\n",
    "\n",
    "transitions = list(zip(tags[:-1], tags[1:]))\n",
    "trans_counts = Counter(transitions)\n",
    "prev_tag_counts = Counter(tags[:-1])\n",
    "trans_prob = {\n",
    "    tag1: {\n",
    "        tag2: trans_counts[(tag1, tag2)] / prev_tag_counts[tag1]\n",
    "        for tag2 in states if (tag1, tag2) in trans_counts\n",
    "    }\n",
    "    for tag1 in states\n",
    "}\n",
    "\n",
    "emit_counts = defaultdict(Counter)\n",
    "for word, tag in tagged_obs:\n",
    "    emit_counts[tag][word] += 1\n",
    "\n",
    "emiss_prob = {\n",
    "    tag: {\n",
    "        word: count / sum(emit_counts[tag].values())\n",
    "        for word, count in emit_counts[tag].items()\n",
    "    }\n",
    "    for tag in states\n",
    "}"
   ]
  },
  {
   "cell_type": "markdown",
   "id": "e86f13e2",
   "metadata": {},
   "source": [
    "Ahora implementamos el algoritmo Viterbi para encontrar secuecnias de etiquetas."
   ]
  },
  {
   "cell_type": "code",
   "execution_count": 7,
   "id": "67c259e7",
   "metadata": {},
   "outputs": [
    {
     "name": "stdout",
     "output_type": "stream",
     "text": [
      "Etiquetas más probables: ['Articulo', 'Sustantivo', 'Verbo', 'Puntuacion', 'Articulo', 'Sustantivo', 'Verbo', 'Puntuacion', 'Articulo', 'Sustantivo', 'Verbo', 'Puntuacion']\n"
     ]
    }
   ],
   "source": [
    "# Implementación del algoritmo de Viterbi y estimación de la secuencia más probable de etiquetas\n",
    "\n",
    "def viterbi(obs, states, start_p, trans_p, emit_p):\n",
    "    \"\"\"\n",
    "    Implementa el algoritmo de Viterbi para encontrar la secuencia de etiquetas más probable en un modelo HMM.\n",
    "\n",
    "    Args:\n",
    "        obs (list): Secuencia de observaciones (palabras).\n",
    "        states (list): Lista de posibles estados (etiquetas).\n",
    "        start_p (dict): Probabilidades iniciales de los estados.\n",
    "        trans_p (dict): Probabilidades de transición entre estados.\n",
    "        emit_p (dict): Probabilidades de emisión de observaciones dado el estado.\n",
    "\n",
    "    Returns:\n",
    "        tuple: (probabilidad total, lista de etiquetas más probables)\n",
    "    \"\"\"\n",
    "    V = [{}]\n",
    "    path = {}\n",
    "    for s in states:\n",
    "        start_prob_safe = start_p.get(s, 1e-6)\n",
    "        emit_prob_safe = emit_p.get(s, {}).get(obs[0], 1e-6)\n",
    "        V[0][s] = math.log(max(start_prob_safe, 1e-6)) + math.log(max(emit_prob_safe, 1e-6))\n",
    "        path[s] = [s]\n",
    "\n",
    "    for t in range(1, len(obs)):\n",
    "        V.append({})\n",
    "        new_path = {}\n",
    "        for curr in states:\n",
    "            (prob, prev) = max(\n",
    "                (\n",
    "                    V[t - 1][s] + math.log(trans_p[s].get(curr, 1e-6)) + math.log(emit_p[curr].get(obs[t], 1e-6)),\n",
    "                    s\n",
    "                ) for s in states\n",
    "            )\n",
    "            V[t][curr] = prob\n",
    "            new_path[curr] = path[prev] + [curr]\n",
    "        path = new_path\n",
    "\n",
    "    (prob, final_state) = max((V[-1][s], s) for s in states)\n",
    "    return math.exp(prob), path[final_state]\n",
    "\n",
    "prob, tags = viterbi(observations, states, start_prob, trans_prob, emiss_prob)\n",
    "print(\"Etiquetas más probables:\", tags)"
   ]
  },
  {
   "cell_type": "markdown",
   "id": "fd1c58d8",
   "metadata": {},
   "source": [
    "Este resultado es lo que esperamos, según los datos que usamos para entrenar el modelo. Ahora, dada una palabra, le asignamos una etiqueta."
   ]
  },
  {
   "cell_type": "code",
   "execution_count": 8,
   "id": "4a2d8042",
   "metadata": {},
   "outputs": [
    {
     "name": "stdout",
     "output_type": "stream",
     "text": [
      "Predicción de etiquetas para la frase:\n",
      "[('el', 'Articulo'), ('gato', 'Sustantivo'), ('juega', 'Verbo'), ('.', 'Puntuacion')]\n"
     ]
    }
   ],
   "source": [
    "# Predcción de etiquetas gramaticales (POS) para una nueva oración\n",
    "\n",
    "def predict_pos(sentence):\n",
    "    \"\"\"\n",
    "    Predice la secuencia de etiquetas gramaticales (POS) para una oración dada usando un modelo HMM.\n",
    "\n",
    "    Args:\n",
    "        sentence (str): Oración de entrada.\n",
    "\n",
    "    Returns:\n",
    "        list: Lista de tuplas (palabra, etiqueta).\n",
    "    \"\"\"\n",
    "    tokens = nltk.word_tokenize(sentence.lower(), language='spanish')\n",
    "    prob, tags = viterbi(tokens, states, start_prob, trans_prob, emiss_prob)\n",
    "    return list(zip(tokens, tags))\n",
    "\n",
    "new_sentence = \"el gato juega .\"\n",
    "print(\"Predicción de etiquetas para la frase:\")\n",
    "print(predict_pos(new_sentence))\n"
   ]
  },
  {
   "cell_type": "markdown",
   "id": "7f624138",
   "metadata": {},
   "source": [
    "Ahora visualizamos la distribución de las etiquetas y comparamos nuestros resultados con los de la librería spaCy."
   ]
  },
  {
   "cell_type": "code",
   "execution_count": 9,
   "id": "9a008057",
   "metadata": {},
   "outputs": [
    {
     "name": "stdout",
     "output_type": "stream",
     "text": [
      "Collecting es-core-news-sm==3.8.0\n",
      "  Downloading https://github.com/explosion/spacy-models/releases/download/es_core_news_sm-3.8.0/es_core_news_sm-3.8.0-py3-none-any.whl (12.9 MB)\n",
      "\u001b[2K     \u001b[90m━━━━━━━━━━━━━━━━━━━━━━━━━━━━━━━━━━━━━━━━\u001b[0m \u001b[32m12.9/12.9 MB\u001b[0m \u001b[31m11.4 MB/s\u001b[0m eta \u001b[36m0:00:00\u001b[0m00:01\u001b[0m00:01\u001b[0m\n",
      "\u001b[?25hInstalling collected packages: es-core-news-sm\n",
      "Successfully installed es-core-news-sm-3.8.0\n",
      "\n",
      "\u001b[1m[\u001b[0m\u001b[34;49mnotice\u001b[0m\u001b[1;39;49m]\u001b[0m\u001b[39;49m A new release of pip is available: \u001b[0m\u001b[31;49m23.0.1\u001b[0m\u001b[39;49m -> \u001b[0m\u001b[32;49m25.1.1\u001b[0m\n",
      "\u001b[1m[\u001b[0m\u001b[34;49mnotice\u001b[0m\u001b[1;39;49m]\u001b[0m\u001b[39;49m To update, run: \u001b[0m\u001b[32;49mpip install --upgrade pip\u001b[0m\n",
      "\u001b[38;5;2m✔ Download and installation successful\u001b[0m\n",
      "You can now load the package via spacy.load('es_core_news_sm')\n"
     ]
    }
   ],
   "source": [
    "!python -m spacy download es_core_news_sm"
   ]
  },
  {
   "cell_type": "code",
   "execution_count": 10,
   "id": "ece88cff",
   "metadata": {},
   "outputs": [
    {
     "data": {
      "image/png": "[encoded data removed]",
      "text/plain": [
       "<Figure size 600x400 with 1 Axes>"
      ]
     },
     "metadata": {},
     "output_type": "display_data"
    },
    {
     "data": {
      "image/png": "[encoded data removed]",
      "text/plain": [
       "<Figure size 640x480 with 2 Axes>"
      ]
     },
     "metadata": {},
     "output_type": "display_data"
    }
   ],
   "source": [
    "# Visualización de la distribución de etiquetas y comparación con SpaCy\n",
    "\n",
    "pos_counts = Counter(tags)\n",
    "plt.figure(figsize=(6, 4))\n",
    "sns.barplot(x=list(pos_counts.keys()), y=list(pos_counts.values()))\n",
    "plt.title(\"POS Tag Distribution\")\n",
    "plt.xlabel(\"Tag\")\n",
    "plt.ylabel(\"Count\")\n",
    "plt.tight_layout()\n",
    "plt.show()\n",
    "\n",
    "try:\n",
    "    import spacy\n",
    "    nlp = spacy.load(\"es_core_news_sm\")\n",
    "    doc = nlp(\" \".join(observations))\n",
    "    spacy_tags = [token.pos_ for token in doc if token.text in observations]\n",
    "\n",
    "    common_len = min(len(spacy_tags), len(tags))\n",
    "    aligned_spacy = spacy_tags[:common_len]\n",
    "    aligned_hmm = tags[:common_len]\n",
    "\n",
    "    cm = confusion_matrix(aligned_spacy, aligned_hmm, labels=list(set(aligned_spacy + aligned_hmm)))\n",
    "    disp = ConfusionMatrixDisplay(confusion_matrix=cm, display_labels=list(set(aligned_spacy + aligned_hmm)))\n",
    "    disp.plot(cmap='Blues', xticks_rotation=45)\n",
    "    plt.title(\"Confusion Matrix: SpaCy vs HMM\")\n",
    "    plt.tight_layout()\n",
    "    plt.show()\n",
    "except:\n",
    "    print(\"[Opcional] Para comparar con SpaCy, instale la librería y corra el siguiente comando: python -m spacy download es_core_news_sm\")\n",
    "\n",
    "# Para descargar el modelo de SpaCy, puedes usar el siguiente comando en una celda de Jupyter o en la terminal:\n",
    "# !pip install spacy\n",
    "# !python -m spacy download es_core_news_sm"
   ]
  },
  {
   "cell_type": "markdown",
   "id": "c093c9e9",
   "metadata": {},
   "source": [
    "### 3. Embeddings con CBOW"
   ]
  },
  {
   "cell_type": "markdown",
   "id": "6f720f5e",
   "metadata": {},
   "source": [
    "En este ejercicio implementaremos el algortimo de retropropagación para entrenar redes neuronales y más adelante, entrenaremos una red neuronal que codifique palabras en vectores usando el método CBOW."
   ]
  },
  {
   "cell_type": "code",
   "execution_count": 11,
   "id": "6be65b1b",
   "metadata": {},
   "outputs": [],
   "source": [
    "# Importamos librerías necesarias\n",
    "\n",
    "import numpy as np\n",
    "import torch\n",
    "import torch.nn as nn\n",
    "import torch.optim as optim"
   ]
  },
  {
   "cell_type": "markdown",
   "id": "06529608",
   "metadata": {},
   "source": [
    "Antes de implementar la retropropagación, definimos la función sigmoide y su derivada."
   ]
  },
  {
   "cell_type": "code",
   "execution_count": 12,
   "id": "13eb7088",
   "metadata": {},
   "outputs": [],
   "source": [
    "# Definimos la función de activación sigmoide y su derivada\n",
    "\n",
    "def sigmoid(x):\n",
    "    \"\"\"\n",
    "    Calcula la función de activación sigmoide.\n",
    "\n",
    "    Args:\n",
    "        x (float or np.ndarray): Valor de entrada.\n",
    "\n",
    "    Returns:\n",
    "        float or np.ndarray: Valor transformado por la función sigmoide.\n",
    "    \"\"\"\n",
    "    return 1 / (1 + np.exp(-x))\n",
    "\n",
    "def sigmoid_derivative(x):\n",
    "    \"\"\"\n",
    "    Calcula la derivada de la función sigmoide.\n",
    "\n",
    "    Args:\n",
    "        x (float or np.ndarray): Valor de entrada.\n",
    "\n",
    "    Returns:\n",
    "        float or np.ndarray: Derivada de la función sigmoide.\n",
    "    \"\"\"\n",
    "    return x * (1 - x)"
   ]
  },
  {
   "cell_type": "markdown",
   "id": "985d797a",
   "metadata": {},
   "source": [
    "Con el fin de simplificar el ejercicio, vamos a entrenar una red neuronal que opere como una compuerta XOR. Estas compuertas son de gran utilidad para visualizar redes neuronales de más de una capa."
   ]
  },
  {
   "cell_type": "code",
   "execution_count": 13,
   "id": "247dab9b",
   "metadata": {},
   "outputs": [],
   "source": [
    "# Generamos datos de la compuerta XOR e inicializamos los pesos y bias\n",
    "\n",
    "X = np.array([[0,0],[0,1],[1,0],[1,1]])\n",
    "y = np.array([[0],[1],[1],[0]])\n",
    "np.random.seed(1)\n",
    "W1 = 2 * np.random.random((2, 4)) - 1\n",
    "W2 = 2 * np.random.random((4, 1)) - 1"
   ]
  },
  {
   "cell_type": "markdown",
   "id": "96bcd627",
   "metadata": {},
   "source": [
    "Ahora entrenamos el modelo para que encuentre los parámetros óptimos usando gradient descent."
   ]
  },
  {
   "cell_type": "code",
   "execution_count": 14,
   "id": "0dff2fe1",
   "metadata": {},
   "outputs": [
    {
     "name": "stdout",
     "output_type": "stream",
     "text": [
      "Predicciones: [[0.09581334]\n",
      " [0.91580613]\n",
      " [0.91080945]\n",
      " [0.09593608]]\n"
     ]
    }
   ],
   "source": [
    "# Enterenamos la red neuronal\n",
    "\n",
    "lr = 0.1\n",
    "for epoch in range(10000):\n",
    "\n",
    "    L1 = sigmoid(np.dot(X, W1))\n",
    "    L2 = sigmoid(np.dot(L1, W2))\n",
    "\n",
    "    error = y - L2\n",
    "    delta2 = error * sigmoid_derivative(L2)\n",
    "    delta1 = delta2.dot(W2.T) * sigmoid_derivative(L1)\n",
    "\n",
    "    W2 += lr * L1.T.dot(delta2)\n",
    "    W1 += lr * X.T.dot(delta1)\n",
    "\n",
    "print(\"Predicciones:\", sigmoid(np.dot(sigmoid(np.dot(X, W1)), W2)))"
   ]
  },
  {
   "cell_type": "markdown",
   "id": "f98e1da4",
   "metadata": {},
   "source": [
    "Estas predicciones se ajustan a nuestras expectativas de la compuerta XOR."
   ]
  },
  {
   "cell_type": "markdown",
   "id": "834f2634",
   "metadata": {},
   "source": [
    "Ahora seguimos con el uso de redes neuronales para aprender embeddings de palabras usando el método CBOW."
   ]
  },
  {
   "cell_type": "code",
   "execution_count": 15,
   "id": "ac42bb70",
   "metadata": {},
   "outputs": [],
   "source": [
    "# Definimos vocabulario y asignamos índices a palabras\n",
    "\n",
    "text = \"Estamos aprendiendo sobre el modelo cbow y las redes neuronales\"\n",
    "words = text.lower().split()\n",
    "vocab = list(set(words))\n",
    "word_to_ix = {word: i for i, word in enumerate(vocab)}\n",
    "ix_to_word = {i: word for word, i in word_to_ix.items()}"
   ]
  },
  {
   "cell_type": "code",
   "execution_count": 16,
   "id": "dcbfab3d",
   "metadata": {},
   "outputs": [],
   "source": [
    "# Preparamos los datos de entrenamiento con una ventana de contexto de tamaño 1\n",
    "\n",
    "data = []\n",
    "for i in range(1, len(words) - 1):\n",
    "    context = [words[i - 1], words[i + 1]]\n",
    "    target = words[i]\n",
    "    data.append((context, target))"
   ]
  },
  {
   "cell_type": "code",
   "execution_count": 17,
   "id": "98a2d2bf",
   "metadata": {},
   "outputs": [],
   "source": [
    "# Definimos una clase para el modelo CBOW\n",
    "\n",
    "class CBOW(nn.Module):\n",
    "    \"\"\"\n",
    "    Implementa el modelo Continuous Bag of Words (CBOW) usando PyTorch para aprender embeddings de palabras.\n",
    "\n",
    "    Args:\n",
    "        vocab_size (int): Tamaño del vocabulario.\n",
    "        embed_dim (int): Dimensión de los embeddings.\n",
    "    \"\"\"\n",
    "    def __init__(self, vocab_size, embed_dim):\n",
    "        \"\"\"\n",
    "        Inicializa las capas del modelo CBOW.\n",
    "\n",
    "        Args:\n",
    "            vocab_size (int): Tamaño del vocabulario.\n",
    "            embed_dim (int): Dimensión de los embeddings.\n",
    "        \"\"\"\n",
    "        super(CBOW, self).__init__()\n",
    "        self.embeddings = nn.Embedding(vocab_size, embed_dim)\n",
    "        self.linear = nn.Linear(embed_dim, vocab_size)\n",
    "\n",
    "    def forward(self, context_idxs):\n",
    "        \"\"\"\n",
    "        Realiza la pasada hacia adelante del modelo CBOW.\n",
    "\n",
    "        Args:\n",
    "            context_idxs (torch.Tensor): Índices de las palabras de contexto.\n",
    "\n",
    "        Returns:\n",
    "            torch.Tensor: Predicción de la palabra objetivo.\n",
    "        \"\"\"\n",
    "        embeds = self.embeddings(context_idxs)\n",
    "        context_vec = embeds.mean(dim=0)\n",
    "        out = self.linear(context_vec)\n",
    "        return out"
   ]
  },
  {
   "cell_type": "code",
   "execution_count": 18,
   "id": "f9627489",
   "metadata": {},
   "outputs": [
    {
     "name": "stdout",
     "output_type": "stream",
     "text": [
      "Epoch 0, Loss: 18.5811\n",
      "Epoch 20, Loss: 11.3669\n",
      "Epoch 40, Loss: 7.2906\n",
      "Epoch 60, Loss: 4.9944\n",
      "Epoch 80, Loss: 3.6360\n",
      "Embedding para'cbow': tensor([-1.0676, -1.1169,  0.7264,  0.7886,  1.0028,  0.0809, -1.7123,  0.8023,\n",
      "         0.4714,  0.2087], grad_fn=<SelectBackward0>)\n"
     ]
    }
   ],
   "source": [
    "# Construimos el modelo, definimos la función de pérdida y el optimizador, y entrenamos el modelo\n",
    "\n",
    "model = CBOW(len(vocab), 10)\n",
    "loss_fn = nn.CrossEntropyLoss()\n",
    "optimizer = optim.SGD(model.parameters(), lr=0.01)\n",
    "\n",
    "for epoch in range(100):\n",
    "    total_loss = 0\n",
    "    for context, target in data:\n",
    "        context_idxs = torch.tensor([word_to_ix[w] for w in context], dtype=torch.long)\n",
    "        target_idx = torch.tensor([word_to_ix[target]], dtype=torch.long)\n",
    "\n",
    "        model.zero_grad()\n",
    "        log_probs = model(context_idxs)\n",
    "        loss = loss_fn(log_probs.view(1, -1), target_idx)\n",
    "\n",
    "        loss.backward()\n",
    "        optimizer.step()\n",
    "\n",
    "        total_loss += loss.item()\n",
    "    if epoch % 20 == 0:\n",
    "        print(f\"Epoch {epoch}, Loss: {total_loss:.4f}\")\n",
    "\n",
    "print(\"Embedding para'cbow':\", model.embeddings.weight[word_to_ix['cbow']])"
   ]
  }
 ],
 "metadata": {
  "kernelspec": {
   "display_name": "trial_reqs_env",
   "language": "python",
   "name": "python3"
  },
  "language_info": {
   "codemirror_mode": {
    "name": "ipython",
    "version": 3
   },
   "file_extension": ".py",
   "mimetype": "text/x-python",
   "name": "python",
   "nbconvert_exporter": "python",
   "pygments_lexer": "ipython3",
   "version": "3.10.13"
  }
 },
 "nbformat": 4,
 "nbformat_minor": 5
}
