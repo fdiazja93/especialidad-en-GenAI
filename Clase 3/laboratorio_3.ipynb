{
 "cells": [
  {
   "cell_type": "markdown",
   "id": "e55532df",
   "metadata": {},
   "source": [
    "### Clase 3: Laboratorio"
   ]
  },
  {
   "cell_type": "markdown",
   "id": "1201a947",
   "metadata": {},
   "source": []
  }
 ],
 "metadata": {
  "language_info": {
   "name": "python"
  }
 },
 "nbformat": 4,
 "nbformat_minor": 5
}
