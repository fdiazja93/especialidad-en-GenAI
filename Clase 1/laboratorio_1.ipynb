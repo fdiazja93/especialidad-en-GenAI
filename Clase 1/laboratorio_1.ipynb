{
 "cells": [
  {
   "cell_type": "markdown",
   "id": "7222d714",
   "metadata": {},
   "source": [
    "### Clase 1: Laboratorio"
   ]
  },
  {
   "cell_type": "markdown",
   "id": "8be5ed51",
   "metadata": {},
   "source": []
  }
 ],
 "metadata": {
  "language_info": {
   "name": "python"
  }
 },
 "nbformat": 4,
 "nbformat_minor": 5
}
