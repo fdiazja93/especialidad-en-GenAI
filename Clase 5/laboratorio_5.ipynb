{
 "cells": [
  {
   "cell_type": "markdown",
   "id": "e27a44a7",
   "metadata": {},
   "source": [
    "### Clase 5: Laboratorio"
   ]
  },
  {
   "cell_type": "markdown",
   "id": "064484d5",
   "metadata": {},
   "source": []
  }
 ],
 "metadata": {
  "language_info": {
   "name": "python"
  }
 },
 "nbformat": 4,
 "nbformat_minor": 5
}
