{
 "cells": [
  {
   "cell_type": "markdown",
   "id": "c943eb61",
   "metadata": {},
   "source": [
    "### Clase 10: Laboratorio"
   ]
  },
  {
   "cell_type": "markdown",
   "id": "b9ad6015",
   "metadata": {},
   "source": []
  }
 ],
 "metadata": {
  "language_info": {
   "name": "python"
  }
 },
 "nbformat": 4,
 "nbformat_minor": 5
}
