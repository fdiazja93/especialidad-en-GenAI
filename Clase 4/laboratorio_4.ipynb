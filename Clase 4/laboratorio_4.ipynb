{
 "cells": [
  {
   "cell_type": "markdown",
   "id": "004f97b7",
   "metadata": {},
   "source": [
    "### Clase 4: Laboratorio"
   ]
  },
  {
   "cell_type": "markdown",
   "id": "20055c4a",
   "metadata": {},
   "source": []
  }
 ],
 "metadata": {
  "language_info": {
   "name": "python"
  }
 },
 "nbformat": 4,
 "nbformat_minor": 5
}
