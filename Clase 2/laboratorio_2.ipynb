{
 "cells": [
  {
   "cell_type": "markdown",
   "id": "4d08526d",
   "metadata": {},
   "source": [
    "### Clase 2: Laboratorio"
   ]
  },
  {
   "cell_type": "markdown",
   "id": "3468e155",
   "metadata": {},
   "source": []
  }
 ],
 "metadata": {
  "language_info": {
   "name": "python"
  }
 },
 "nbformat": 4,
 "nbformat_minor": 5
}
